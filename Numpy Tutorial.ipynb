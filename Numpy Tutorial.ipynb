{
 "cells": [
  {
   "cell_type": "markdown",
   "id": "e3001aee-63d8-48c0-bc60-cd1165a2907d",
   "metadata": {},
   "source": [
    "1 One-dimensional arrays"
   ]
  },
  {
   "cell_type": "markdown",
   "id": "43c186a0-4de2-4a56-a7c0-1d8de1983f12",
   "metadata": {},
   "source": [
    "1.1 Creating"
   ]
  },
  {
   "cell_type": "code",
   "execution_count": 3,
   "id": "fe13f4b9-a5b0-4c1e-8ca3-3075268a6630",
   "metadata": {},
   "outputs": [],
   "source": [
    "L = [11, 7, 19, 22, 55]"
   ]
  },
  {
   "cell_type": "code",
   "execution_count": 7,
   "id": "4d7f7dea-6663-41cd-ad9b-f3d1a92151e5",
   "metadata": {},
   "outputs": [
    {
     "data": {
      "text/plain": [
       "array([11,  7, 19, 22, 55])"
      ]
     },
     "execution_count": 7,
     "metadata": {},
     "output_type": "execute_result"
    }
   ],
   "source": [
    "import numpy as np\n",
    "xs = np.array(L)\n",
    "xs"
   ]
  },
  {
   "cell_type": "code",
   "execution_count": 9,
   "id": "430be55d-0433-4ecd-acc9-d33775742f01",
   "metadata": {},
   "outputs": [
    {
     "name": "stdout",
     "output_type": "stream",
     "text": [
      "[11  7 19 22 55]\n"
     ]
    }
   ],
   "source": [
    "print(xs)"
   ]
  },
  {
   "cell_type": "code",
   "execution_count": 11,
   "id": "e3fc2652-1d86-416f-af95-d270643e5b16",
   "metadata": {},
   "outputs": [
    {
     "name": "stdout",
     "output_type": "stream",
     "text": [
      "[11, 7, 19, 22, 55]\n"
     ]
    }
   ],
   "source": [
    "print(L)"
   ]
  },
  {
   "cell_type": "code",
   "execution_count": 13,
   "id": "c4486751-4516-404c-9941-cf56c3907b26",
   "metadata": {},
   "outputs": [
    {
     "data": {
      "text/plain": [
       "5"
      ]
     },
     "execution_count": 13,
     "metadata": {},
     "output_type": "execute_result"
    }
   ],
   "source": [
    "xs.size"
   ]
  },
  {
   "cell_type": "code",
   "execution_count": 15,
   "id": "f9bd07a6-f034-44f7-a6e1-e2537a7a5f5f",
   "metadata": {},
   "outputs": [
    {
     "data": {
      "text/plain": [
       "dtype('int32')"
      ]
     },
     "execution_count": 15,
     "metadata": {},
     "output_type": "execute_result"
    }
   ],
   "source": [
    "xs.dtype"
   ]
  },
  {
   "cell_type": "code",
   "execution_count": 17,
   "id": "b645dade-05a7-49d9-9a66-fd1c253ace93",
   "metadata": {},
   "outputs": [
    {
     "data": {
      "text/plain": [
       "list"
      ]
     },
     "execution_count": 17,
     "metadata": {},
     "output_type": "execute_result"
    }
   ],
   "source": [
    "type(L)"
   ]
  },
  {
   "cell_type": "code",
   "execution_count": 19,
   "id": "a62ae29c-da3c-441c-afc6-5823eac59f87",
   "metadata": {},
   "outputs": [
    {
     "data": {
      "text/plain": [
       "int"
      ]
     },
     "execution_count": 19,
     "metadata": {},
     "output_type": "execute_result"
    }
   ],
   "source": [
    "type(L[0])"
   ]
  },
  {
   "cell_type": "code",
   "execution_count": 21,
   "id": "110daa4a-ca5a-4db0-88cd-b304ea63a9e5",
   "metadata": {},
   "outputs": [
    {
     "data": {
      "text/plain": [
       "numpy.ndarray"
      ]
     },
     "execution_count": 21,
     "metadata": {},
     "output_type": "execute_result"
    }
   ],
   "source": [
    "type(xs)"
   ]
  },
  {
   "cell_type": "code",
   "execution_count": 23,
   "id": "c72c79fe-e033-49e4-a456-3d92fca1ca27",
   "metadata": {},
   "outputs": [
    {
     "data": {
      "text/plain": [
       "numpy.int32"
      ]
     },
     "execution_count": 23,
     "metadata": {},
     "output_type": "execute_result"
    }
   ],
   "source": [
    "type(xs[0])"
   ]
  },
  {
   "cell_type": "code",
   "execution_count": 25,
   "id": "3e550d60-094e-49e6-8c55-b80ba944c22a",
   "metadata": {},
   "outputs": [
    {
     "data": {
      "text/plain": [
       "dtype('float64')"
      ]
     },
     "execution_count": 25,
     "metadata": {},
     "output_type": "execute_result"
    }
   ],
   "source": [
    "ys = np.array([1.1, 2.2, 3.3, 4.4])\n",
    "ys.dtype"
   ]
  },
  {
   "cell_type": "code",
   "execution_count": 27,
   "id": "aa66af43-44ee-4a78-ad9b-2e5e6c494a02",
   "metadata": {},
   "outputs": [
    {
     "data": {
      "text/plain": [
       "dtype('float32')"
      ]
     },
     "execution_count": 27,
     "metadata": {},
     "output_type": "execute_result"
    }
   ],
   "source": [
    "zs = np.array([5, 6, 7, 8], dtype = np.float32)\n",
    "zs\n",
    "zs.dtype"
   ]
  },
  {
   "cell_type": "code",
   "execution_count": 29,
   "id": "37ea5f7c-c81e-4091-9898-ff421a941e34",
   "metadata": {},
   "outputs": [
    {
     "data": {
      "text/plain": [
       "array([0., 0., 0., 0., 0.])"
      ]
     },
     "execution_count": 29,
     "metadata": {},
     "output_type": "execute_result"
    }
   ],
   "source": [
    "np.array([0.]*5)"
   ]
  },
  {
   "cell_type": "code",
   "execution_count": 31,
   "id": "fad9597f-cf14-4852-83ea-ab09ecf493d2",
   "metadata": {},
   "outputs": [
    {
     "data": {
      "text/plain": [
       "array([1., 1., 1., 1.])"
      ]
     },
     "execution_count": 31,
     "metadata": {},
     "output_type": "execute_result"
    }
   ],
   "source": [
    "np.array([1.]*4)"
   ]
  },
  {
   "cell_type": "code",
   "execution_count": 35,
   "id": "7bcef530-b8c8-4af2-b7a1-217a391738c0",
   "metadata": {},
   "outputs": [
    {
     "data": {
      "text/plain": [
       "array([0., 0., 0., 0., 0.])"
      ]
     },
     "execution_count": 35,
     "metadata": {},
     "output_type": "execute_result"
    }
   ],
   "source": [
    "np.zeros(5)"
   ]
  },
  {
   "cell_type": "code",
   "execution_count": 37,
   "id": "cf0e4c02-50b3-4ef6-b790-4081e1e627cd",
   "metadata": {},
   "outputs": [
    {
     "data": {
      "text/plain": [
       "array([1., 1., 1., 1.])"
      ]
     },
     "execution_count": 37,
     "metadata": {},
     "output_type": "execute_result"
    }
   ],
   "source": [
    "np.ones(4)"
   ]
  },
  {
   "cell_type": "code",
   "execution_count": 43,
   "id": "8402ecc4-0754-4a38-9c7e-ad375f79cfab",
   "metadata": {},
   "outputs": [
    {
     "data": {
      "text/plain": [
       "array([10, 11, 12, 13, 14, 15])"
      ]
     },
     "execution_count": 43,
     "metadata": {},
     "output_type": "execute_result"
    }
   ],
   "source": [
    "np.arange(10, 16)"
   ]
  },
  {
   "cell_type": "code",
   "execution_count": 45,
   "id": "5e517f36-1eea-406a-84b4-a6ba620cb33f",
   "metadata": {},
   "outputs": [
    {
     "data": {
      "text/plain": [
       "array([10., 11., 12., 13., 14., 15.])"
      ]
     },
     "execution_count": 45,
     "metadata": {},
     "output_type": "execute_result"
    }
   ],
   "source": [
    "np.arange(10., 16.)"
   ]
  },
  {
   "cell_type": "code",
   "execution_count": 47,
   "id": "40fd55b8-ecc4-4a12-a402-122982fea7b1",
   "metadata": {},
   "outputs": [
    {
     "data": {
      "text/plain": [
       "array([1.5 , 1.55, 1.6 , 1.65, 1.7 ])"
      ]
     },
     "execution_count": 47,
     "metadata": {},
     "output_type": "execute_result"
    }
   ],
   "source": [
    "np.arange(1.5, 1.75, 0.05)"
   ]
  },
  {
   "cell_type": "code",
   "execution_count": 49,
   "id": "641d7f1a-cf6f-47a7-a413-5ec77fffee09",
   "metadata": {},
   "outputs": [
    {
     "data": {
      "text/plain": [
       "array([1.5 , 1.55, 1.6 , 1.65, 1.7 , 1.75, 1.8 ])"
      ]
     },
     "execution_count": 49,
     "metadata": {},
     "output_type": "execute_result"
    }
   ],
   "source": [
    "np.arange(1.5, 1.8, 0.05)"
   ]
  },
  {
   "cell_type": "code",
   "execution_count": 51,
   "id": "8626fa55-8bbc-4dea-8028-c62490526c76",
   "metadata": {},
   "outputs": [
    {
     "data": {
      "text/plain": [
       "array([1.5 , 1.55, 1.6 , 1.65, 1.7 , 1.75])"
      ]
     },
     "execution_count": 51,
     "metadata": {},
     "output_type": "execute_result"
    }
   ],
   "source": [
    "np.arange(1.5, 1.75001, 0.05)"
   ]
  },
  {
   "cell_type": "code",
   "execution_count": 57,
   "id": "51a61c37-3fbe-47a8-b0c3-a0653da19785",
   "metadata": {},
   "outputs": [
    {
     "data": {
      "text/plain": [
       "array([1.5   , 1.5625, 1.625 , 1.6875, 1.75  ])"
      ]
     },
     "execution_count": 57,
     "metadata": {},
     "output_type": "execute_result"
    }
   ],
   "source": [
    "np.linspace(1.5, 1.75, 5)"
   ]
  },
  {
   "cell_type": "code",
   "execution_count": 59,
   "id": "ec8fc61d-142d-4859-8c05-cbcaf25310b1",
   "metadata": {},
   "outputs": [
    {
     "data": {
      "text/plain": [
       "array([1.5 , 1.55, 1.6 , 1.65, 1.7 , 1.75, 1.8 ])"
      ]
     },
     "execution_count": 59,
     "metadata": {},
     "output_type": "execute_result"
    }
   ],
   "source": [
    "np.linspace(1.5, 1.8, 7)"
   ]
  },
  {
   "cell_type": "code",
   "execution_count": 61,
   "id": "d280c4c0-a2e3-4841-add3-33fe4b71841b",
   "metadata": {},
   "outputs": [
    {
     "data": {
      "text/plain": [
       "array([1.e-01, 1.e-02, 1.e-03, 1.e-04, 1.e-05])"
      ]
     },
     "execution_count": 61,
     "metadata": {},
     "output_type": "execute_result"
    }
   ],
   "source": [
    "np.logspace(-1, -5, 5)"
   ]
  },
  {
   "cell_type": "markdown",
   "id": "141ca705-7a78-4f2c-a0d5-03fc5e6eff2f",
   "metadata": {},
   "source": [
    "1.2 Indexing and Slicing"
   ]
  },
  {
   "cell_type": "code",
   "execution_count": 64,
   "id": "48027be4-2467-4049-a483-0fc958795278",
   "metadata": {},
   "outputs": [
    {
     "name": "stdout",
     "output_type": "stream",
     "text": [
      "[10 11 12 13 14 15]\n"
     ]
    }
   ],
   "source": [
    "xs = np.arange(10, 16)\n",
    "print(xs)"
   ]
  },
  {
   "cell_type": "code",
   "execution_count": 66,
   "id": "726936b7-0412-43a0-b0bc-6bbcf6d082d9",
   "metadata": {},
   "outputs": [
    {
     "data": {
      "text/plain": [
       "12"
      ]
     },
     "execution_count": 66,
     "metadata": {},
     "output_type": "execute_result"
    }
   ],
   "source": [
    "xs[2]"
   ]
  },
  {
   "cell_type": "code",
   "execution_count": 70,
   "id": "c00e517e-a170-4864-8510-15248c0c4c1b",
   "metadata": {},
   "outputs": [
    {
     "name": "stdout",
     "output_type": "stream",
     "text": [
      "[12 13]\n"
     ]
    }
   ],
   "source": [
    "xs = np.arange(10, 16)\n",
    "print(xs[2:4])"
   ]
  },
  {
   "cell_type": "code",
   "execution_count": 76,
   "id": "ec53ff19-dd46-43f7-8a7c-c939ddb008a5",
   "metadata": {},
   "outputs": [
    {
     "name": "stdout",
     "output_type": "stream",
     "text": [
      "[11  7 19 22]\n"
     ]
    }
   ],
   "source": [
    "r = np.array([11, 7, 19, 22])\n",
    "print(r)"
   ]
  },
  {
   "cell_type": "code",
   "execution_count": 78,
   "id": "a874bcbe-9e4c-428a-935f-a67b1bc7c7f5",
   "metadata": {},
   "outputs": [
    {
     "name": "stdout",
     "output_type": "stream",
     "text": [
      "[ 7 19]\n"
     ]
    }
   ],
   "source": [
    "sli = r[1:3]\n",
    "print(sli)"
   ]
  },
  {
   "cell_type": "code",
   "execution_count": 80,
   "id": "6390d778-9bfe-4407-8b47-cd544b2d8874",
   "metadata": {},
   "outputs": [
    {
     "name": "stdout",
     "output_type": "stream",
     "text": [
      "[11  7 19 22]\n"
     ]
    }
   ],
   "source": [
    "print(r)"
   ]
  },
  {
   "cell_type": "code",
   "execution_count": 82,
   "id": "89f5b8ea-6747-4bd0-9fd8-a71f30893df3",
   "metadata": {},
   "outputs": [
    {
     "name": "stdout",
     "output_type": "stream",
     "text": [
      "[55 19]\n"
     ]
    }
   ],
   "source": [
    "r = np.array([11, 7, 19, 22])\n",
    "sli = np.copy(r[1:3])\n",
    "sli[0] = 55\n",
    "print(sli)"
   ]
  },
  {
   "cell_type": "code",
   "execution_count": 84,
   "id": "5b994b84-d9ba-486f-91fd-38bdcd08b963",
   "metadata": {},
   "outputs": [
    {
     "name": "stdout",
     "output_type": "stream",
     "text": [
      "[11  0 19 22]\n"
     ]
    }
   ],
   "source": [
    "r2 = np.copy(r)\n",
    "r2[1] = 0\n",
    "print(r2)"
   ]
  },
  {
   "cell_type": "code",
   "execution_count": 86,
   "id": "e155bb84-bdf0-4672-b1be-02058c28273e",
   "metadata": {},
   "outputs": [
    {
     "name": "stdout",
     "output_type": "stream",
     "text": [
      "[10 11 12 13 14 15]\n"
     ]
    }
   ],
   "source": [
    "xs = np.arange(10, 16)\n",
    "print(xs)"
   ]
  },
  {
   "cell_type": "code",
   "execution_count": 88,
   "id": "42c63947-be40-4bc8-b59f-016ac3f86596",
   "metadata": {},
   "outputs": [
    {
     "name": "stdout",
     "output_type": "stream",
     "text": [
      "[7 7 7 7 7 7]\n"
     ]
    }
   ],
   "source": [
    "xs[:] = 7\n",
    "print(xs)"
   ]
  },
  {
   "cell_type": "markdown",
   "id": "97700c09-34c3-4545-ae44-bdc0fd315bfb",
   "metadata": {},
   "source": [
    "1.3 Vectorization"
   ]
  },
  {
   "cell_type": "code",
   "execution_count": 91,
   "id": "a6a7d1d0-b849-4f08-b8e9-a02c141ee333",
   "metadata": {},
   "outputs": [
    {
     "name": "stdout",
     "output_type": "stream",
     "text": [
      "[10 11 12 13 14 15]\n",
      "[20 21 22 23 24 25]\n"
     ]
    }
   ],
   "source": [
    "xs = np.arange(10, 16)\n",
    "ys = np.arange(20, 26)\n",
    "print(xs)\n",
    "print(ys)"
   ]
  },
  {
   "cell_type": "code",
   "execution_count": 93,
   "id": "5cae8cda-2c2a-42e8-91d9-d0b41bf00d4d",
   "metadata": {},
   "outputs": [
    {
     "name": "stdout",
     "output_type": "stream",
     "text": [
      "[30 32 34 36 38 40]\n"
     ]
    }
   ],
   "source": [
    "print(xs + ys)"
   ]
  },
  {
   "cell_type": "code",
   "execution_count": 99,
   "id": "cba9988b-dc09-48a5-97ed-6e5144e3da00",
   "metadata": {},
   "outputs": [
    {
     "data": {
      "text/plain": [
       "[10, 11, 12, 13, 14, 15]"
      ]
     },
     "execution_count": 99,
     "metadata": {},
     "output_type": "execute_result"
    }
   ],
   "source": [
    "xs = list(range(10, 16))\n",
    "ys = list(range(20, 26))\n",
    "xs"
   ]
  },
  {
   "cell_type": "code",
   "execution_count": 101,
   "id": "e2d72d83-e5d4-4e8d-a865-0983bf053ee3",
   "metadata": {},
   "outputs": [
    {
     "data": {
      "text/plain": [
       "[20, 21, 22, 23, 24, 25]"
      ]
     },
     "execution_count": 101,
     "metadata": {},
     "output_type": "execute_result"
    }
   ],
   "source": [
    "ys"
   ]
  },
  {
   "cell_type": "code",
   "execution_count": 103,
   "id": "f8ed2086-af9f-40e7-a855-7c7ea8622f3e",
   "metadata": {},
   "outputs": [
    {
     "data": {
      "text/plain": [
       "[10, 11, 12, 13, 14, 15, 20, 21, 22, 23, 24, 25]"
      ]
     },
     "execution_count": 103,
     "metadata": {},
     "output_type": "execute_result"
    }
   ],
   "source": [
    "xs + ys"
   ]
  },
  {
   "cell_type": "code",
   "execution_count": 105,
   "id": "66591296-1db7-481f-a096-dab3abb75dd5",
   "metadata": {},
   "outputs": [
    {
     "data": {
      "text/plain": [
       "[30, 32, 34, 36, 38, 40]"
      ]
     },
     "execution_count": 105,
     "metadata": {},
     "output_type": "execute_result"
    }
   ],
   "source": [
    "news = [x+y for x, y in zip(xs, ys)]\n",
    "news"
   ]
  },
  {
   "cell_type": "code",
   "execution_count": 109,
   "id": "490a6092-bc0b-4732-b092-de6fd3dfb7d2",
   "metadata": {},
   "outputs": [
    {
     "name": "stdout",
     "output_type": "stream",
     "text": [
      "[200 231 264 299 336 375]\n"
     ]
    }
   ],
   "source": [
    "xs = np.arange(10, 16)\n",
    "ys = np.arange(20, 26)\n",
    "print(xs*ys)"
   ]
  },
  {
   "cell_type": "code",
   "execution_count": 111,
   "id": "1fa3ed2f-5816-41a9-957e-fd1d8728d1d8",
   "metadata": {},
   "outputs": [
    {
     "data": {
      "text/plain": [
       "1705"
      ]
     },
     "execution_count": 111,
     "metadata": {},
     "output_type": "execute_result"
    }
   ],
   "source": [
    "np.sum(xs*ys)"
   ]
  },
  {
   "cell_type": "code",
   "execution_count": 113,
   "id": "16340814-8c5d-4ee0-99da-d0ccb4f7b380",
   "metadata": {},
   "outputs": [
    {
     "name": "stdout",
     "output_type": "stream",
     "text": [
      "[10 11 12 13 14 15]\n"
     ]
    }
   ],
   "source": [
    "xs = np.arange(10, 16)\n",
    "print(xs)"
   ]
  },
  {
   "cell_type": "code",
   "execution_count": 115,
   "id": "ff9e05c1-29e5-43d8-aa94-ef947aa00a2f",
   "metadata": {},
   "outputs": [
    {
     "name": "stdout",
     "output_type": "stream",
     "text": [
      "[20 22 24 26 28 30]\n"
     ]
    }
   ],
   "source": [
    "print(2*xs)"
   ]
  },
  {
   "cell_type": "code",
   "execution_count": 117,
   "id": "94e3c3a3-b16e-4e1c-926d-1f20b8dd3e3a",
   "metadata": {},
   "outputs": [
    {
     "name": "stdout",
     "output_type": "stream",
     "text": [
      "[0.1        0.09090909 0.08333333 0.07692308 0.07142857 0.06666667]\n"
     ]
    }
   ],
   "source": [
    "xs = np.arange(10, 16)\n",
    "print(1/xs)"
   ]
  },
  {
   "cell_type": "code",
   "execution_count": 119,
   "id": "82297568-f6a9-4548-81ce-4ec3e9d2757d",
   "metadata": {},
   "outputs": [
    {
     "name": "stdout",
     "output_type": "stream",
     "text": [
      "[2.9851115706299676, 2.8066081273180745, 2.657455355319679, 2.5309844631963223, 2.422399699588928, 2.3281653683320878]\n"
     ]
    }
   ],
   "source": [
    "import math\n",
    "def f(x):\n",
    "    return 1/math.sqrt(x**2+1)\n",
    "ws = list(range(30, 36))\n",
    "xs = list(range(10, 16))\n",
    "tots = [w*f(x) for w,x in zip(ws, xs)]\n",
    "print(tots)"
   ]
  },
  {
   "cell_type": "code",
   "execution_count": 121,
   "id": "4e5eee00-d9f6-44bb-983b-39511376a9aa",
   "metadata": {},
   "outputs": [
    {
     "name": "stdout",
     "output_type": "stream",
     "text": [
      "[2.98511157 2.80660813 2.65745536 2.53098446 2.4223997  2.32816537]\n"
     ]
    }
   ],
   "source": [
    "def fa(xs):\n",
    "    return 1/np.sqrt(xs**2+1)\n",
    "ws = np.arange(30, 36)\n",
    "xs = np.arange(10, 16)\n",
    "tots = ws*fa(xs)\n",
    "print(tots)"
   ]
  },
  {
   "cell_type": "markdown",
   "id": "c10d2cd7-0c52-401e-82a4-d29bcff88319",
   "metadata": {},
   "source": [
    "2 Two-dimensional arrays"
   ]
  },
  {
   "cell_type": "markdown",
   "id": "78829979-70de-4a3b-aac9-37c5e51be569",
   "metadata": {},
   "source": [
    "2.1 Creating"
   ]
  },
  {
   "cell_type": "code",
   "execution_count": 125,
   "id": "9b244069-3919-44d3-bfd9-b056e61a00eb",
   "metadata": {},
   "outputs": [],
   "source": [
    "LL =[[11, 12, 13, 14], [ 15, 16, 17, 18], [19, 20, 21, 22]]"
   ]
  },
  {
   "cell_type": "code",
   "execution_count": 129,
   "id": "7a4f9a02-b304-49ad-b5ba-708fb55f851c",
   "metadata": {},
   "outputs": [
    {
     "data": {
      "text/plain": [
       "array([[11, 12, 13, 14],\n",
       "       [15, 16, 17, 18],\n",
       "       [19, 20, 21, 22]])"
      ]
     },
     "execution_count": 129,
     "metadata": {},
     "output_type": "execute_result"
    }
   ],
   "source": [
    "A = np.array(LL)\n",
    "A"
   ]
  },
  {
   "cell_type": "code",
   "execution_count": 133,
   "id": "562c8e1b-da06-4409-bfb1-b4ed7f8f76d9",
   "metadata": {},
   "outputs": [
    {
     "name": "stdout",
     "output_type": "stream",
     "text": [
      "[[11 12 13 14]\n",
      " [15 16 17 18]\n",
      " [19 20 21 22]]\n"
     ]
    }
   ],
   "source": [
    "print(A)"
   ]
  },
  {
   "cell_type": "code",
   "execution_count": 135,
   "id": "e1e7ccf3-4f6e-4198-9a82-0f371eef4c50",
   "metadata": {},
   "outputs": [
    {
     "name": "stdout",
     "output_type": "stream",
     "text": [
      "[[11. 12. 13. 14.]\n",
      " [15. 16. 17. 18.]\n",
      " [19. 20. 21. 22.]]\n"
     ]
    }
   ],
   "source": [
    "B = np.array(LL, dtype=np.float64)\n",
    "print(B)"
   ]
  },
  {
   "cell_type": "code",
   "execution_count": 137,
   "id": "e3b724c5-5c96-4219-8cfb-d3f7f8fadc60",
   "metadata": {},
   "outputs": [
    {
     "data": {
      "text/plain": [
       "dtype('float64')"
      ]
     },
     "execution_count": 137,
     "metadata": {},
     "output_type": "execute_result"
    }
   ],
   "source": [
    "B.dtype"
   ]
  },
  {
   "cell_type": "code",
   "execution_count": 139,
   "id": "d2a9840c-d427-465c-a2d8-b4e886404f3e",
   "metadata": {},
   "outputs": [
    {
     "data": {
      "text/plain": [
       "12"
      ]
     },
     "execution_count": 139,
     "metadata": {},
     "output_type": "execute_result"
    }
   ],
   "source": [
    "A.size"
   ]
  },
  {
   "cell_type": "code",
   "execution_count": 141,
   "id": "2be3e8ad-b2ae-49d8-9004-a84678099fff",
   "metadata": {},
   "outputs": [
    {
     "data": {
      "text/plain": [
       "2"
      ]
     },
     "execution_count": 141,
     "metadata": {},
     "output_type": "execute_result"
    }
   ],
   "source": [
    "A.ndim"
   ]
  },
  {
   "cell_type": "code",
   "execution_count": 143,
   "id": "bf4964cb-8c9d-4f0b-9305-9aaee2d4abbc",
   "metadata": {},
   "outputs": [
    {
     "data": {
      "text/plain": [
       "(3, 4)"
      ]
     },
     "execution_count": 143,
     "metadata": {},
     "output_type": "execute_result"
    }
   ],
   "source": [
    "A.shape"
   ]
  },
  {
   "cell_type": "code",
   "execution_count": 145,
   "id": "af8a2fd2-ce64-4841-9e70-bcf14dc91212",
   "metadata": {},
   "outputs": [
    {
     "data": {
      "text/plain": [
       "array([[0., 0., 0.],\n",
       "       [0., 0., 0.]])"
      ]
     },
     "execution_count": 145,
     "metadata": {},
     "output_type": "execute_result"
    }
   ],
   "source": [
    "np.zeros((2, 3))"
   ]
  },
  {
   "cell_type": "code",
   "execution_count": 147,
   "id": "bef8328b-b662-4ced-96d6-665533b65ff9",
   "metadata": {},
   "outputs": [
    {
     "data": {
      "text/plain": [
       "array([[1., 1., 1.],\n",
       "       [1., 1., 1.],\n",
       "       [1., 1., 1.]])"
      ]
     },
     "execution_count": 147,
     "metadata": {},
     "output_type": "execute_result"
    }
   ],
   "source": [
    "np.ones((3, 3))"
   ]
  },
  {
   "cell_type": "code",
   "execution_count": 149,
   "id": "b984671c-2ad3-42d5-9330-49aa531f56ff",
   "metadata": {},
   "outputs": [
    {
     "data": {
      "text/plain": [
       "array([[1., 0., 0.],\n",
       "       [0., 1., 0.],\n",
       "       [0., 0., 1.]])"
      ]
     },
     "execution_count": 149,
     "metadata": {},
     "output_type": "execute_result"
    }
   ],
   "source": [
    "np.identity(3)"
   ]
  },
  {
   "cell_type": "code",
   "execution_count": 151,
   "id": "19ff6514-ecdb-44d9-bbf2-861464f39d8d",
   "metadata": {},
   "outputs": [
    {
     "data": {
      "text/plain": [
       "(8,)"
      ]
     },
     "execution_count": 151,
     "metadata": {},
     "output_type": "execute_result"
    }
   ],
   "source": [
    "B = np.array([1,4,9,7,2,8,5,6])\n",
    "B.shape"
   ]
  },
  {
   "cell_type": "code",
   "execution_count": 153,
   "id": "e9328df6-e79d-45e8-90ac-08c171255e3c",
   "metadata": {},
   "outputs": [
    {
     "data": {
      "text/plain": [
       "(2, 4)"
      ]
     },
     "execution_count": 153,
     "metadata": {},
     "output_type": "execute_result"
    }
   ],
   "source": [
    "B = B.reshape((2,4))\n",
    "B.shape"
   ]
  },
  {
   "cell_type": "code",
   "execution_count": 155,
   "id": "78e745a0-ccde-4037-b250-e28452f6f8f5",
   "metadata": {},
   "outputs": [
    {
     "data": {
      "text/plain": [
       "array([[1, 4, 9, 7],\n",
       "       [2, 8, 5, 6]])"
      ]
     },
     "execution_count": 155,
     "metadata": {},
     "output_type": "execute_result"
    }
   ],
   "source": [
    "B"
   ]
  },
  {
   "cell_type": "code",
   "execution_count": 157,
   "id": "d50d3c37-90b1-4182-b57d-fef909bb8d3b",
   "metadata": {},
   "outputs": [
    {
     "data": {
      "text/plain": [
       "array([[11, 12, 13, 14],\n",
       "       [15, 16, 17, 18],\n",
       "       [19, 20, 21, 22]])"
      ]
     },
     "execution_count": 157,
     "metadata": {},
     "output_type": "execute_result"
    }
   ],
   "source": [
    "A = np.arange(11, 23)\n",
    "A = A.reshape((3, 4))\n",
    "A"
   ]
  },
  {
   "cell_type": "code",
   "execution_count": 161,
   "id": "528b8e1b-1f0f-4640-a347-29183858f7a3",
   "metadata": {},
   "outputs": [
    {
     "data": {
      "text/plain": [
       "array([[11, 12, 13, 14],\n",
       "       [15, 16, 17, 18],\n",
       "       [19, 20, 21, 22]])"
      ]
     },
     "execution_count": 161,
     "metadata": {},
     "output_type": "execute_result"
    }
   ],
   "source": [
    "A = np.arange(11, 23).reshape(3,4)\n",
    "A"
   ]
  },
  {
   "cell_type": "markdown",
   "id": "4a12bb08-ecc7-4d3d-85c6-c4dbb1defbf2",
   "metadata": {},
   "source": [
    "2.2 Indexing and Slicing"
   ]
  },
  {
   "cell_type": "code",
   "execution_count": 164,
   "id": "670c89f7-42f4-401f-9660-0981007b4bdf",
   "metadata": {},
   "outputs": [],
   "source": [
    "LL = [[11, 12, 13, 14], [15, 16, 17, 18], [19, 20, 21 ,22]]"
   ]
  },
  {
   "cell_type": "code",
   "execution_count": 166,
   "id": "39058033-65bf-47e3-b598-1cedf9d3503c",
   "metadata": {},
   "outputs": [
    {
     "data": {
      "text/plain": [
       "20"
      ]
     },
     "execution_count": 166,
     "metadata": {},
     "output_type": "execute_result"
    }
   ],
   "source": [
    "LL[2][1]"
   ]
  },
  {
   "cell_type": "code",
   "execution_count": 168,
   "id": "480b7bc5-239a-4100-9494-ec534422f214",
   "metadata": {},
   "outputs": [
    {
     "data": {
      "text/plain": [
       "array([[11, 12, 13, 14],\n",
       "       [15, 16, 17, 18],\n",
       "       [19, 20, 21, 22]])"
      ]
     },
     "execution_count": 168,
     "metadata": {},
     "output_type": "execute_result"
    }
   ],
   "source": [
    "A = np.arange(11,23).reshape(3,4)\n",
    "A"
   ]
  },
  {
   "cell_type": "code",
   "execution_count": 170,
   "id": "2fa7c463-9d5b-4f12-b295-45c021d3d8dd",
   "metadata": {},
   "outputs": [
    {
     "data": {
      "text/plain": [
       "20"
      ]
     },
     "execution_count": 170,
     "metadata": {},
     "output_type": "execute_result"
    }
   ],
   "source": [
    "A[2, 1]"
   ]
  },
  {
   "cell_type": "code",
   "execution_count": 172,
   "id": "6b41fe97-3612-428d-b25c-b37e627213e8",
   "metadata": {},
   "outputs": [
    {
     "data": {
      "text/plain": [
       "array([16, 17])"
      ]
     },
     "execution_count": 172,
     "metadata": {},
     "output_type": "execute_result"
    }
   ],
   "source": [
    "A[1, 1:3]"
   ]
  },
  {
   "cell_type": "code",
   "execution_count": 174,
   "id": "147054ff-4cb1-4096-b312-3dcd0a47081d",
   "metadata": {},
   "outputs": [
    {
     "data": {
      "text/plain": [
       "array([15, 16, 17, 18])"
      ]
     },
     "execution_count": 174,
     "metadata": {},
     "output_type": "execute_result"
    }
   ],
   "source": [
    "A[1,:]"
   ]
  },
  {
   "cell_type": "code",
   "execution_count": 176,
   "id": "71bbae37-5dd2-4a17-9673-b9688e8f6042",
   "metadata": {},
   "outputs": [
    {
     "data": {
      "text/plain": [
       "array([13, 17, 21])"
      ]
     },
     "execution_count": 176,
     "metadata": {},
     "output_type": "execute_result"
    }
   ],
   "source": [
    "A[:,2]"
   ]
  },
  {
   "cell_type": "code",
   "execution_count": 184,
   "id": "85d11740-f15f-4a40-b66b-2640ca30a42a",
   "metadata": {},
   "outputs": [
    {
     "data": {
      "text/plain": [
       "array([[12, 13, 14],\n",
       "       [16, 17, 18]])"
      ]
     },
     "execution_count": 184,
     "metadata": {},
     "output_type": "execute_result"
    }
   ],
   "source": [
    "B = A[:2, 1:]\n",
    "B"
   ]
  },
  {
   "cell_type": "code",
   "execution_count": 188,
   "id": "a60fdbe3-4609-4581-906c-0c9a6140c4ad",
   "metadata": {},
   "outputs": [
    {
     "data": {
      "text/plain": [
       "array([[0, 0, 0],\n",
       "       [0, 0, 0]])"
      ]
     },
     "execution_count": 188,
     "metadata": {},
     "output_type": "execute_result"
    }
   ],
   "source": [
    "B[:,:] = 0\n",
    "B"
   ]
  },
  {
   "cell_type": "code",
   "execution_count": 190,
   "id": "9ce86ce0-f2f9-42c9-936d-7b0e9355b3d0",
   "metadata": {},
   "outputs": [
    {
     "data": {
      "text/plain": [
       "array([[11,  0,  0,  0],\n",
       "       [15,  0,  0,  0],\n",
       "       [19, 20, 21, 22]])"
      ]
     },
     "execution_count": 190,
     "metadata": {},
     "output_type": "execute_result"
    }
   ],
   "source": [
    "A"
   ]
  },
  {
   "cell_type": "code",
   "execution_count": 192,
   "id": "4fda32e6-1100-4e48-bdb9-3135f5e0c669",
   "metadata": {},
   "outputs": [
    {
     "data": {
      "text/plain": [
       "array([[11, 12, 13, 14],\n",
       "       [15, 16, 17, 18],\n",
       "       [19, 20, 21, 22]])"
      ]
     },
     "execution_count": 192,
     "metadata": {},
     "output_type": "execute_result"
    }
   ],
   "source": [
    "A = np.arange(11, 23).reshape(3, 4)\n",
    "A"
   ]
  },
  {
   "cell_type": "code",
   "execution_count": 194,
   "id": "50bb69e7-ca5e-436c-af88-bfc764a6bf17",
   "metadata": {},
   "outputs": [
    {
     "data": {
      "text/plain": [
       "array([[0, 0, 0],\n",
       "       [0, 0, 0]])"
      ]
     },
     "execution_count": 194,
     "metadata": {},
     "output_type": "execute_result"
    }
   ],
   "source": [
    "B = np.copy(A[:2,1:])\n",
    "B[:,:] = 0\n",
    "B"
   ]
  },
  {
   "cell_type": "code",
   "execution_count": 196,
   "id": "eb263b3c-4ddf-494d-97dc-986240c7acd6",
   "metadata": {},
   "outputs": [
    {
     "data": {
      "text/plain": [
       "array([[11, 12, 13, 14],\n",
       "       [15, 16, 17, 18],\n",
       "       [19, 20, 21, 22]])"
      ]
     },
     "execution_count": 196,
     "metadata": {},
     "output_type": "execute_result"
    }
   ],
   "source": [
    "A"
   ]
  },
  {
   "cell_type": "markdown",
   "id": "3e6ed9ad-99da-4c6f-9de3-4d776bc7e9d2",
   "metadata": {},
   "source": [
    "2.3 Vectorization"
   ]
  },
  {
   "cell_type": "code",
   "execution_count": 199,
   "id": "727bf6cd-d084-4a25-b25f-1070eec5e876",
   "metadata": {},
   "outputs": [
    {
     "data": {
      "text/plain": [
       "array([[1, 2, 3],\n",
       "       [4, 5, 6],\n",
       "       [7, 8, 9]])"
      ]
     },
     "execution_count": 199,
     "metadata": {},
     "output_type": "execute_result"
    }
   ],
   "source": [
    "A = np.arange(1,10).reshape(3,3)\n",
    "B = np.arange(11,20).reshape(3,3)\n",
    "A"
   ]
  },
  {
   "cell_type": "code",
   "execution_count": 201,
   "id": "9360a358-b9e9-4d1c-ba4d-657778dd36f2",
   "metadata": {},
   "outputs": [
    {
     "data": {
      "text/plain": [
       "array([[11, 12, 13],\n",
       "       [14, 15, 16],\n",
       "       [17, 18, 19]])"
      ]
     },
     "execution_count": 201,
     "metadata": {},
     "output_type": "execute_result"
    }
   ],
   "source": [
    "B"
   ]
  },
  {
   "cell_type": "code",
   "execution_count": 203,
   "id": "bda7edb6-757b-4eb3-b229-1d0d8ba24c8c",
   "metadata": {},
   "outputs": [
    {
     "data": {
      "text/plain": [
       "array([[12, 14, 16],\n",
       "       [18, 20, 22],\n",
       "       [24, 26, 28]])"
      ]
     },
     "execution_count": 203,
     "metadata": {},
     "output_type": "execute_result"
    }
   ],
   "source": [
    "A+B"
   ]
  },
  {
   "cell_type": "code",
   "execution_count": 205,
   "id": "d1931868-1fc9-4a00-b26b-12f4cd80f522",
   "metadata": {},
   "outputs": [
    {
     "data": {
      "text/plain": [
       "array([[ 11,  24,  39],\n",
       "       [ 56,  75,  96],\n",
       "       [119, 144, 171]])"
      ]
     },
     "execution_count": 205,
     "metadata": {},
     "output_type": "execute_result"
    }
   ],
   "source": [
    "A*B"
   ]
  },
  {
   "cell_type": "code",
   "execution_count": 209,
   "id": "36ad4f74-5da6-4165-90bc-3c72c5470eca",
   "metadata": {},
   "outputs": [
    {
     "data": {
      "text/plain": [
       "array([[ 90,  96, 102],\n",
       "       [216, 231, 246],\n",
       "       [342, 366, 390]])"
      ]
     },
     "execution_count": 209,
     "metadata": {},
     "output_type": "execute_result"
    }
   ],
   "source": [
    "np.dot(A,B)"
   ]
  },
  {
   "cell_type": "code",
   "execution_count": 211,
   "id": "efddf3b3-875c-4dfd-a61a-ee35aab9da1f",
   "metadata": {},
   "outputs": [
    {
     "data": {
      "text/plain": [
       "array([[ 90,  96, 102],\n",
       "       [216, 231, 246],\n",
       "       [342, 366, 390]])"
      ]
     },
     "execution_count": 211,
     "metadata": {},
     "output_type": "execute_result"
    }
   ],
   "source": [
    "A@B"
   ]
  },
  {
   "cell_type": "code",
   "execution_count": 213,
   "id": "0374f5b6-34db-467d-8c75-41e85311d9c7",
   "metadata": {},
   "outputs": [
    {
     "data": {
      "text/plain": [
       "array([[1, 4, 7],\n",
       "       [2, 5, 8],\n",
       "       [3, 6, 9]])"
      ]
     },
     "execution_count": 213,
     "metadata": {},
     "output_type": "execute_result"
    }
   ],
   "source": [
    "np.transpose(A)"
   ]
  },
  {
   "cell_type": "code",
   "execution_count": 215,
   "id": "89572a0f-1112-4f6e-90e2-ed4942ba89c6",
   "metadata": {},
   "outputs": [
    {
     "data": {
      "text/plain": [
       "15"
      ]
     },
     "execution_count": 215,
     "metadata": {},
     "output_type": "execute_result"
    }
   ],
   "source": [
    "np.trace(A)"
   ]
  },
  {
   "cell_type": "code",
   "execution_count": 217,
   "id": "dd335b7f-4282-4ae0-bb9b-9bbdbf2c5bd0",
   "metadata": {},
   "outputs": [
    {
     "data": {
      "text/plain": [
       "array([[1, 2, 3],\n",
       "       [4, 5, 6],\n",
       "       [7, 8, 9]])"
      ]
     },
     "execution_count": 217,
     "metadata": {},
     "output_type": "execute_result"
    }
   ],
   "source": [
    "A = np.arange(1, 10).reshape(3, 3)\n",
    "A"
   ]
  },
  {
   "cell_type": "code",
   "execution_count": 219,
   "id": "f0de01a4-0aa5-41cc-a37e-763436b03221",
   "metadata": {},
   "outputs": [
    {
     "name": "stdout",
     "output_type": "stream",
     "text": [
      "[1 2 3]\n",
      "[4 5 6]\n",
      "[7 8 9]\n"
     ]
    }
   ],
   "source": [
    "for row in A:\n",
    "    print(row)"
   ]
  },
  {
   "cell_type": "code",
   "execution_count": 221,
   "id": "94be1730-a010-4c41-b512-0cfb8f267341",
   "metadata": {},
   "outputs": [
    {
     "name": "stdout",
     "output_type": "stream",
     "text": [
      "[[1 2 3]\n",
      " [4 5 6]\n",
      " [7 8 9]]\n"
     ]
    }
   ],
   "source": [
    "print(A)"
   ]
  },
  {
   "cell_type": "code",
   "execution_count": 223,
   "id": "f0b6113f-a073-43e1-9a7b-975e33de3d0e",
   "metadata": {},
   "outputs": [
    {
     "name": "stdout",
     "output_type": "stream",
     "text": [
      "[1 4 7]\n",
      "[2 5 8]\n",
      "[3 6 9]\n"
     ]
    }
   ],
   "source": [
    "for column in A.T:\n",
    "    print(column)"
   ]
  },
  {
   "cell_type": "code",
   "execution_count": 225,
   "id": "4e93de32-a0ed-4201-8220-9ed8ae846920",
   "metadata": {},
   "outputs": [
    {
     "data": {
      "text/plain": [
       "array([[0.5, 1. , 1.5],\n",
       "       [2. , 2.5, 3. ],\n",
       "       [3.5, 4. , 4.5]])"
      ]
     },
     "execution_count": 225,
     "metadata": {},
     "output_type": "execute_result"
    }
   ],
   "source": [
    "A/2"
   ]
  },
  {
   "cell_type": "code",
   "execution_count": 233,
   "id": "3ba59a75-3c63-4a70-91c3-0cd87d639575",
   "metadata": {},
   "outputs": [
    {
     "data": {
      "text/plain": [
       "array([12, 15, 18])"
      ]
     },
     "execution_count": 233,
     "metadata": {},
     "output_type": "execute_result"
    }
   ],
   "source": [
    "A = np.arange(1,10).reshape(3,3)\n",
    "np.sum(A, axis=0)"
   ]
  },
  {
   "cell_type": "markdown",
   "id": "c7aeb170-2b2a-46c6-b1f3-e6c7d58da76f",
   "metadata": {},
   "source": [
    "3 File input and output"
   ]
  },
  {
   "cell_type": "code",
   "execution_count": 238,
   "id": "28bad3b9-cb70-4940-8bd9-1878b73ae866",
   "metadata": {},
   "outputs": [
    {
     "name": "stdout",
     "output_type": "stream",
     "text": [
      "Overwriting compl.in\n"
     ]
    }
   ],
   "source": [
    "%%writefile compl.in\n",
    "x y\n",
    "0.6 -6.2\n",
    "1.6 9.3\n",
    "1.8 16."
   ]
  },
  {
   "cell_type": "code",
   "execution_count": 240,
   "id": "ef8c8459-4ac0-4320-8a50-e131468024fe",
   "metadata": {},
   "outputs": [
    {
     "data": {
      "text/plain": [
       "array([[ 0.6, -6.2],\n",
       "       [ 1.6,  9.3],\n",
       "       [ 1.8, 16. ]])"
      ]
     },
     "execution_count": 240,
     "metadata": {},
     "output_type": "execute_result"
    }
   ],
   "source": [
    "A = np.loadtxt(\"compl.in\", skiprows = 1)\n",
    "A"
   ]
  },
  {
   "cell_type": "code",
   "execution_count": 242,
   "id": "7934af2f-269d-4fe7-8829-177386d30cfd",
   "metadata": {},
   "outputs": [
    {
     "data": {
      "text/plain": [
       "array([0.6, 1.6, 1.8])"
      ]
     },
     "execution_count": 242,
     "metadata": {},
     "output_type": "execute_result"
    }
   ],
   "source": [
    "xs, ys = np.loadtxt(\"compl.in\", skiprows = 1, unpack = True)\n",
    "xs"
   ]
  },
  {
   "cell_type": "code",
   "execution_count": 244,
   "id": "8ed92903-9118-426c-9a44-39b754b68e2f",
   "metadata": {},
   "outputs": [
    {
     "data": {
      "text/plain": [
       "array([-6.2,  9.3, 16. ])"
      ]
     },
     "execution_count": 244,
     "metadata": {},
     "output_type": "execute_result"
    }
   ],
   "source": [
    "ys"
   ]
  },
  {
   "cell_type": "code",
   "execution_count": 246,
   "id": "cf7de808-3224-408c-a47f-880e7eb2e522",
   "metadata": {},
   "outputs": [],
   "source": [
    "xs = np.linspace(0, 1.8, 10)\n",
    "ys = 4*xs**3-7\n",
    "np.savetxt(\"compl2.out\", (xs,ys))"
   ]
  },
  {
   "cell_type": "code",
   "execution_count": 248,
   "id": "beaa3c5c-563f-438a-a483-6abcda611990",
   "metadata": {},
   "outputs": [
    {
     "data": {
      "text/plain": [
       "array([0. , 0.2, 0.4, 0.6, 0.8, 1. , 1.2, 1.4, 1.6, 1.8])"
      ]
     },
     "execution_count": 248,
     "metadata": {},
     "output_type": "execute_result"
    }
   ],
   "source": [
    "xs"
   ]
  },
  {
   "cell_type": "code",
   "execution_count": 250,
   "id": "c017e8a7-c024-4a05-befd-378652b041b0",
   "metadata": {},
   "outputs": [
    {
     "data": {
      "text/plain": [
       "array([-7.   , -6.968, -6.744, -6.136, -4.952, -3.   , -0.088,  3.976,\n",
       "        9.384, 16.328])"
      ]
     },
     "execution_count": 250,
     "metadata": {},
     "output_type": "execute_result"
    }
   ],
   "source": [
    "ys"
   ]
  },
  {
   "cell_type": "code",
   "execution_count": 252,
   "id": "62687951-6de0-4f98-b6fc-632ec032e7df",
   "metadata": {},
   "outputs": [],
   "source": [
    "A = np.column_stack((xs,ys))"
   ]
  },
  {
   "cell_type": "code",
   "execution_count": 254,
   "id": "16b60ba7-513c-4fe2-b479-2854f3f18941",
   "metadata": {},
   "outputs": [
    {
     "data": {
      "text/plain": [
       "array([[ 0.   , -7.   ],\n",
       "       [ 0.2  , -6.968],\n",
       "       [ 0.4  , -6.744],\n",
       "       [ 0.6  , -6.136],\n",
       "       [ 0.8  , -4.952],\n",
       "       [ 1.   , -3.   ],\n",
       "       [ 1.2  , -0.088],\n",
       "       [ 1.4  ,  3.976],\n",
       "       [ 1.6  ,  9.384],\n",
       "       [ 1.8  , 16.328]])"
      ]
     },
     "execution_count": 254,
     "metadata": {},
     "output_type": "execute_result"
    }
   ],
   "source": [
    "A"
   ]
  },
  {
   "cell_type": "code",
   "execution_count": null,
   "id": "33792b51-6f2c-49c6-b3f9-a7b9b7650be8",
   "metadata": {},
   "outputs": [],
   "source": []
  }
 ],
 "metadata": {
  "kernelspec": {
   "display_name": "Python 3 (ipykernel)",
   "language": "python",
   "name": "python3"
  },
  "language_info": {
   "codemirror_mode": {
    "name": "ipython",
    "version": 3
   },
   "file_extension": ".py",
   "mimetype": "text/x-python",
   "name": "python",
   "nbconvert_exporter": "python",
   "pygments_lexer": "ipython3",
   "version": "3.12.4"
  }
 },
 "nbformat": 4,
 "nbformat_minor": 5
}
