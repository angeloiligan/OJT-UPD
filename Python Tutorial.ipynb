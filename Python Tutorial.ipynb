{
 "cells": [
  {
   "cell_type": "code",
   "execution_count": 1,
   "id": "59de44a1-4d2a-440b-ad52-f0dbc12e963b",
   "metadata": {},
   "outputs": [
    {
     "data": {
      "text/plain": [
       "5"
      ]
     },
     "execution_count": 1,
     "metadata": {},
     "output_type": "execute_result"
    }
   ],
   "source": [
    "2+3"
   ]
  },
  {
   "cell_type": "code",
   "execution_count": 3,
   "id": "183d0e64-70e0-4b09-874e-2c78e953a956",
   "metadata": {},
   "outputs": [
    {
     "data": {
      "text/plain": [
       "6"
      ]
     },
     "execution_count": 3,
     "metadata": {},
     "output_type": "execute_result"
    }
   ],
   "source": [
    "2*3"
   ]
  },
  {
   "cell_type": "code",
   "execution_count": 112,
   "id": "96b4f3cf-f33c-413f-9b15-11453ae950b7",
   "metadata": {},
   "outputs": [
    {
     "name": "stdout",
     "output_type": "stream",
     "text": [
      "42\n"
     ]
    }
   ],
   "source": [
    "x=42\n",
    "print(x)"
   ]
  },
  {
   "cell_type": "markdown",
   "id": "1edbf83d-04ea-453a-9d21-7b6ddbe8914e",
   "metadata": {},
   "source": [
    "File Storing"
   ]
  },
  {
   "cell_type": "code",
   "execution_count": 8,
   "id": "6b745454-a49a-4a4f-9057-1f9689fa7e29",
   "metadata": {},
   "outputs": [
    {
     "name": "stdout",
     "output_type": "stream",
     "text": [
      "Overwriting example.py\n"
     ]
    }
   ],
   "source": [
    "%%writefile example.py\n",
    "2+3\n",
    "2*3\n",
    "x=42\n",
    "print(x)\n"
   ]
  },
  {
   "cell_type": "code",
   "execution_count": 10,
   "id": "c37a2687-dcad-4b18-b4c9-42780e9d4fb2",
   "metadata": {},
   "outputs": [
    {
     "name": "stdout",
     "output_type": "stream",
     "text": [
      "42\n"
     ]
    }
   ],
   "source": [
    "import example"
   ]
  },
  {
   "cell_type": "markdown",
   "id": "a47dc9a4-266f-4183-be37-8dd70410f583",
   "metadata": {},
   "source": [
    "1.2 Variables"
   ]
  },
  {
   "cell_type": "code",
   "execution_count": 116,
   "id": "11cef611-3f85-47e3-b17c-7dd65da8e7c5",
   "metadata": {},
   "outputs": [
    {
     "data": {
      "text/plain": [
       "int"
      ]
     },
     "execution_count": 116,
     "metadata": {},
     "output_type": "execute_result"
    }
   ],
   "source": [
    "x=1\n",
    "type(x)"
   ]
  },
  {
   "cell_type": "code",
   "execution_count": 15,
   "id": "9ba2cb1e-807d-4778-8ab2-24576ee24f22",
   "metadata": {},
   "outputs": [
    {
     "data": {
      "text/plain": [
       "float"
      ]
     },
     "execution_count": 15,
     "metadata": {},
     "output_type": "execute_result"
    }
   ],
   "source": [
    "x=3.5\n",
    "type(x)"
   ]
  },
  {
   "cell_type": "code",
   "execution_count": 120,
   "id": "961a1e74-5932-4b09-b53b-c9e2b78017b3",
   "metadata": {},
   "outputs": [
    {
     "data": {
      "text/plain": [
       "str"
      ]
     },
     "execution_count": 120,
     "metadata": {},
     "output_type": "execute_result"
    }
   ],
   "source": [
    "x=\"Hi\"\n",
    "type(x)"
   ]
  },
  {
   "cell_type": "code",
   "execution_count": 19,
   "id": "f6e989fd-cba8-4750-998d-efcbbe706809",
   "metadata": {},
   "outputs": [
    {
     "data": {
      "text/plain": [
       "float"
      ]
     },
     "execution_count": 19,
     "metadata": {},
     "output_type": "execute_result"
    }
   ],
   "source": [
    "x=1\n",
    "type(x)\n",
    "y = float(x)\n",
    "type(y)"
   ]
  },
  {
   "cell_type": "code",
   "execution_count": 21,
   "id": "87946b87-98fa-4d77-9ff7-d7064deb6470",
   "metadata": {},
   "outputs": [
    {
     "data": {
      "text/plain": [
       "str"
      ]
     },
     "execution_count": 21,
     "metadata": {},
     "output_type": "execute_result"
    }
   ],
   "source": [
    "spi = \"3.14\"\n",
    "type(spi)"
   ]
  },
  {
   "cell_type": "code",
   "execution_count": 23,
   "id": "6124b468-62d5-4272-b250-b89596e57c02",
   "metadata": {},
   "outputs": [
    {
     "data": {
      "text/plain": [
       "float"
      ]
     },
     "execution_count": 23,
     "metadata": {},
     "output_type": "execute_result"
    }
   ],
   "source": [
    "fpi = float(spi)\n",
    "type(fpi)"
   ]
  },
  {
   "cell_type": "code",
   "execution_count": 25,
   "id": "a99a1be2-9d79-4c29-9ac7-ff1a64f30725",
   "metadata": {},
   "outputs": [
    {
     "name": "stdout",
     "output_type": "stream",
     "text": [
      "3.14\n"
     ]
    }
   ],
   "source": [
    "spi = \"3.14\"\n",
    "print(spi)"
   ]
  },
  {
   "cell_type": "code",
   "execution_count": 27,
   "id": "c1cb9751-2b91-4459-ac69-eb64a026e12b",
   "metadata": {},
   "outputs": [
    {
     "name": "stdout",
     "output_type": "stream",
     "text": [
      "3.14\n"
     ]
    }
   ],
   "source": [
    "fpi = float(spi)\n",
    "print(fpi)"
   ]
  },
  {
   "cell_type": "markdown",
   "id": "791461c5-c541-4179-bdd6-c37a32c2c127",
   "metadata": {},
   "source": [
    "1.3 Output and Input"
   ]
  },
  {
   "cell_type": "code",
   "execution_count": 30,
   "id": "b5aff288-5070-447f-92a8-af24a02568af",
   "metadata": {},
   "outputs": [
    {
     "name": "stdout",
     "output_type": "stream",
     "text": [
      "1 2\n"
     ]
    }
   ],
   "source": [
    "x=1\n",
    "y=2\n",
    "print(x,y)"
   ]
  },
  {
   "cell_type": "code",
   "execution_count": 32,
   "id": "34533aee-2f99-44bc-bf9c-fc698a659289",
   "metadata": {},
   "outputs": [
    {
     "name": "stdout",
     "output_type": "stream",
     "text": [
      "1 5 2\n"
     ]
    }
   ],
   "source": [
    "x=1\n",
    "y=2\n",
    "print(x, 5, y)"
   ]
  },
  {
   "cell_type": "code",
   "execution_count": 34,
   "id": "1f62e9e1-d1e7-43fc-a2af-25464c8d6f67",
   "metadata": {},
   "outputs": [
    {
     "name": "stdout",
     "output_type": "stream",
     "text": [
      "1 is not 2\n"
     ]
    }
   ],
   "source": [
    "x=1\n",
    "y=2\n",
    "print(x, \"is not\", y)"
   ]
  },
  {
   "cell_type": "code",
   "execution_count": 36,
   "id": "cc13c066-669d-4d21-b143-47b220194d08",
   "metadata": {},
   "outputs": [
    {
     "name": "stdin",
     "output_type": "stream",
     "text": [
      "Enter an integer:  44\n"
     ]
    }
   ],
   "source": [
    "x = input(\"Enter an integer: \")"
   ]
  },
  {
   "cell_type": "code",
   "execution_count": 38,
   "id": "98263095-c840-4abd-86e7-fdc196a209d8",
   "metadata": {},
   "outputs": [
    {
     "name": "stdout",
     "output_type": "stream",
     "text": [
      "Twice that is: 88\n"
     ]
    }
   ],
   "source": [
    "print(\"Twice that is:\", 2*int(x))"
   ]
  },
  {
   "cell_type": "code",
   "execution_count": 40,
   "id": "7ac4deaf-6beb-4599-9e67-d014dcc8d1a2",
   "metadata": {},
   "outputs": [
    {
     "name": "stdout",
     "output_type": "stream",
     "text": [
      "Twice that is: 88.0\n"
     ]
    }
   ],
   "source": [
    "print(\"Twice that is:\", 2*float(x))"
   ]
  },
  {
   "cell_type": "markdown",
   "id": "35f303d9-c28e-4c12-8378-1367f0255e4c",
   "metadata": {},
   "source": [
    "1.4 Arithmetic"
   ]
  },
  {
   "cell_type": "code",
   "execution_count": 43,
   "id": "23fc0c20-3105-4f2d-9e24-9b3435889306",
   "metadata": {},
   "outputs": [
    {
     "name": "stdout",
     "output_type": "stream",
     "text": [
      "3\n",
      "3\n"
     ]
    }
   ],
   "source": [
    "x=1\n",
    "y=2\n",
    "w= x + y\n",
    "print(w)\n",
    "print(x+y)"
   ]
  },
  {
   "cell_type": "code",
   "execution_count": 124,
   "id": "400bf769-297d-4083-b0ea-56481fb38ef8",
   "metadata": {},
   "outputs": [
    {
     "data": {
      "text/plain": [
       "float"
      ]
     },
     "execution_count": 124,
     "metadata": {},
     "output_type": "execute_result"
    }
   ],
   "source": [
    "x=1\n",
    "y=2.0\n",
    "z = x+y\n",
    "type(z)"
   ]
  },
  {
   "cell_type": "code",
   "execution_count": 47,
   "id": "0b8b0fa3-3e4a-494b-98e5-1a8441d6f304",
   "metadata": {},
   "outputs": [
    {
     "name": "stdout",
     "output_type": "stream",
     "text": [
      "80.6\n"
     ]
    }
   ],
   "source": [
    "Tc = 27\n",
    "Tf = Tc*9/5 + 32\n",
    "print(Tf)"
   ]
  },
  {
   "cell_type": "markdown",
   "id": "a31db8af-22d3-42a0-9f8b-bc1b9231f757",
   "metadata": {},
   "source": [
    "1.5 Assignments"
   ]
  },
  {
   "cell_type": "code",
   "execution_count": 50,
   "id": "8701def1-a615-412b-be26-8a76bb83cce6",
   "metadata": {},
   "outputs": [
    {
     "ename": "SyntaxError",
     "evalue": "cannot assign to expression here. Maybe you meant '==' instead of '='? (2158832923.py, line 2)",
     "output_type": "error",
     "traceback": [
      "\u001b[1;36m  Cell \u001b[1;32mIn[50], line 2\u001b[1;36m\u001b[0m\n\u001b[1;33m    3*x = y\u001b[0m\n\u001b[1;37m    ^\u001b[0m\n\u001b[1;31mSyntaxError\u001b[0m\u001b[1;31m:\u001b[0m cannot assign to expression here. Maybe you meant '==' instead of '='?\n"
     ]
    }
   ],
   "source": [
    "y=2\n",
    "3*x = y"
   ]
  },
  {
   "cell_type": "code",
   "execution_count": 52,
   "id": "49b4965c-6f2d-439f-833c-2ec5b8a4f1cd",
   "metadata": {},
   "outputs": [
    {
     "name": "stdout",
     "output_type": "stream",
     "text": [
      "0.6666666666666666\n"
     ]
    }
   ],
   "source": [
    "x=y/3\n",
    "y=3*x\n",
    "\n",
    "print(x)"
   ]
  },
  {
   "cell_type": "code",
   "execution_count": 54,
   "id": "75942984-fab7-4e05-8534-7552f617fc93",
   "metadata": {},
   "outputs": [
    {
     "name": "stdout",
     "output_type": "stream",
     "text": [
      "8\n"
     ]
    }
   ],
   "source": [
    "x=7\n",
    "x = x+1\n",
    "print(x)"
   ]
  },
  {
   "cell_type": "code",
   "execution_count": 56,
   "id": "42718237-7719-4853-9e81-4e3a7051fb85",
   "metadata": {},
   "outputs": [
    {
     "name": "stdout",
     "output_type": "stream",
     "text": [
      "9\n"
     ]
    }
   ],
   "source": [
    "x+=1\n",
    "print(x)"
   ]
  },
  {
   "cell_type": "code",
   "execution_count": 58,
   "id": "6ceaec04-a0d9-48a5-904f-e250db9346df",
   "metadata": {},
   "outputs": [],
   "source": [
    "x = x**2 + 4*x - 7"
   ]
  },
  {
   "cell_type": "markdown",
   "id": "a3740be8-0e59-4ac8-a1ed-5863fd802300",
   "metadata": {},
   "source": [
    "1.6 Comments"
   ]
  },
  {
   "cell_type": "code",
   "execution_count": 130,
   "id": "36ef708e-12f2-4aef-8253-34c5619ecaf1",
   "metadata": {},
   "outputs": [
    {
     "name": "stdout",
     "output_type": "stream",
     "text": [
      "Writing variable.py\n"
     ]
    }
   ],
   "source": [
    "%%writefile variable.py\n",
    "#initializing variables\n",
    "a = 17\n",
    "b = 9\n",
    "c = 32"
   ]
  },
  {
   "cell_type": "markdown",
   "id": "3dfab543-5c41-4505-9445-f36b524a6280",
   "metadata": {},
   "source": [
    "1.7 Modules and built-in functions"
   ]
  },
  {
   "cell_type": "code",
   "execution_count": 64,
   "id": "2e73a676-16b2-43e2-b7e6-9810da2a2a35",
   "metadata": {},
   "outputs": [
    {
     "data": {
      "text/plain": [
       "5"
      ]
     },
     "execution_count": 64,
     "metadata": {},
     "output_type": "execute_result"
    }
   ],
   "source": [
    "abs(-5)"
   ]
  },
  {
   "cell_type": "code",
   "execution_count": 21,
   "id": "ca6670dd-b463-44b7-a857-7e15681973fe",
   "metadata": {},
   "outputs": [
    {
     "data": {
      "text/plain": [
       "3.605551275463989"
      ]
     },
     "execution_count": 21,
     "metadata": {},
     "output_type": "execute_result"
    }
   ],
   "source": [
    "abs(2+3j)"
   ]
  },
  {
   "cell_type": "code",
   "execution_count": 68,
   "id": "4fefbcd8-d761-4793-a4e8-f97210604347",
   "metadata": {},
   "outputs": [
    {
     "data": {
      "text/plain": [
       "3.605551275463989"
      ]
     },
     "execution_count": 68,
     "metadata": {},
     "output_type": "execute_result"
    }
   ],
   "source": [
    "from math import sqrt\n",
    "sqrt(2**2 + 3**2)"
   ]
  },
  {
   "cell_type": "code",
   "execution_count": 70,
   "id": "34d8de09-a0cf-4efe-9f85-e75d63649770",
   "metadata": {},
   "outputs": [
    {
     "data": {
      "text/plain": [
       "3.141592653589793"
      ]
     },
     "execution_count": 70,
     "metadata": {},
     "output_type": "execute_result"
    }
   ],
   "source": [
    "from math import pi\n",
    "pi"
   ]
  },
  {
   "cell_type": "code",
   "execution_count": 72,
   "id": "fb7e1ad6-373b-43d8-bc9f-6dd5dc82d0c8",
   "metadata": {},
   "outputs": [
    {
     "data": {
      "text/plain": [
       "7.38905609893065"
      ]
     },
     "execution_count": 72,
     "metadata": {},
     "output_type": "execute_result"
    }
   ],
   "source": [
    "from math import sin, exp\n",
    "exp(2)"
   ]
  },
  {
   "cell_type": "code",
   "execution_count": 132,
   "id": "9d915217-6857-4b7a-a18f-f5f2bf84a9be",
   "metadata": {},
   "outputs": [
    {
     "name": "stdout",
     "output_type": "stream",
     "text": [
      "34\n"
     ]
    }
   ],
   "source": [
    "import variable\n",
    "print(2*variable.a)"
   ]
  },
  {
   "cell_type": "code",
   "execution_count": 134,
   "id": "970f70c3-3a99-48b8-8d42-db6c877f020b",
   "metadata": {},
   "outputs": [
    {
     "name": "stdout",
     "output_type": "stream",
     "text": [
      "34\n"
     ]
    }
   ],
   "source": [
    "import initialize as init\n",
    "print(2*init.a)"
   ]
  },
  {
   "cell_type": "code",
   "execution_count": 78,
   "id": "ab8dea10-f66a-4ae1-b976-2d537bdf1ea5",
   "metadata": {},
   "outputs": [
    {
     "name": "stdout",
     "output_type": "stream",
     "text": [
      "34\n"
     ]
    }
   ],
   "source": [
    "from initialize import a\n",
    "print(2*a)"
   ]
  },
  {
   "cell_type": "code",
   "execution_count": 80,
   "id": "6e928eb1-fa21-428a-bfb7-af79ce49b3b8",
   "metadata": {},
   "outputs": [
    {
     "name": "stdout",
     "output_type": "stream",
     "text": [
      "34\n"
     ]
    }
   ],
   "source": [
    "from initialize import *\n",
    "print(2*a)"
   ]
  },
  {
   "cell_type": "code",
   "execution_count": 82,
   "id": "0ec0eb72-2fa6-461c-aa84-1a3529871288",
   "metadata": {},
   "outputs": [
    {
     "name": "stdout",
     "output_type": "stream",
     "text": [
      "Overwriting doubling.py\n"
     ]
    }
   ],
   "source": [
    "%%writefile doubling.py\n",
    "from initialize import a,b,c\n",
    "print(a,b,c)\n",
    "print(2*a, 2*b, 2*c)"
   ]
  },
  {
   "cell_type": "code",
   "execution_count": 84,
   "id": "c5514382-ad87-4a3b-8982-5254e7312da6",
   "metadata": {},
   "outputs": [
    {
     "name": "stdout",
     "output_type": "stream",
     "text": [
      "17 9 32\n",
      "34 18 64\n"
     ]
    }
   ],
   "source": [
    "%run doubling.py"
   ]
  },
  {
   "cell_type": "code",
   "execution_count": 86,
   "id": "ddde4c11-9ffe-47a6-ab47-12f99497b562",
   "metadata": {},
   "outputs": [
    {
     "name": "stdout",
     "output_type": "stream",
     "text": [
      "The Zen of Python, by Tim Peters\n",
      "\n",
      "Beautiful is better than ugly.\n",
      "Explicit is better than implicit.\n",
      "Simple is better than complex.\n",
      "Complex is better than complicated.\n",
      "Flat is better than nested.\n",
      "Sparse is better than dense.\n",
      "Readability counts.\n",
      "Special cases aren't special enough to break the rules.\n",
      "Although practicality beats purity.\n",
      "Errors should never pass silently.\n",
      "Unless explicitly silenced.\n",
      "In the face of ambiguity, refuse the temptation to guess.\n",
      "There should be one-- and preferably only one --obvious way to do it.\n",
      "Although that way may not be obvious at first unless you're Dutch.\n",
      "Now is better than never.\n",
      "Although never is often better than *right* now.\n",
      "If the implementation is hard to explain, it's a bad idea.\n",
      "If the implementation is easy to explain, it may be a good idea.\n",
      "Namespaces are one honking great idea -- let's do more of those!\n"
     ]
    }
   ],
   "source": [
    "import this"
   ]
  },
  {
   "cell_type": "code",
   "execution_count": 88,
   "id": "907a7cd6-e78d-4b74-8378-288acf03eb68",
   "metadata": {},
   "outputs": [
    {
     "data": {
      "text/plain": [
       "['__builtins__',\n",
       " '__cached__',\n",
       " '__doc__',\n",
       " '__file__',\n",
       " '__loader__',\n",
       " '__name__',\n",
       " '__package__',\n",
       " '__spec__',\n",
       " 'a',\n",
       " 'b',\n",
       " 'c']"
      ]
     },
     "execution_count": 88,
     "metadata": {},
     "output_type": "execute_result"
    }
   ],
   "source": [
    "import initialize\n",
    "dir(initialize)"
   ]
  },
  {
   "cell_type": "code",
   "execution_count": 90,
   "id": "3eba0971-c817-4a8a-8a44-c9e3bb140bc9",
   "metadata": {},
   "outputs": [
    {
     "data": {
      "text/plain": [
       "17"
      ]
     },
     "execution_count": 90,
     "metadata": {},
     "output_type": "execute_result"
    }
   ],
   "source": [
    "initialize.a"
   ]
  },
  {
   "cell_type": "code",
   "execution_count": 92,
   "id": "736f0acb-e869-4a48-8225-2f9897b10580",
   "metadata": {},
   "outputs": [
    {
     "data": {
      "text/plain": [
       "['__doc__',\n",
       " '__loader__',\n",
       " '__name__',\n",
       " '__package__',\n",
       " '__spec__',\n",
       " 'acos',\n",
       " 'acosh',\n",
       " 'asin',\n",
       " 'asinh',\n",
       " 'atan',\n",
       " 'atan2',\n",
       " 'atanh',\n",
       " 'cbrt',\n",
       " 'ceil',\n",
       " 'comb',\n",
       " 'copysign',\n",
       " 'cos',\n",
       " 'cosh',\n",
       " 'degrees',\n",
       " 'dist',\n",
       " 'e',\n",
       " 'erf',\n",
       " 'erfc',\n",
       " 'exp',\n",
       " 'exp2',\n",
       " 'expm1',\n",
       " 'fabs',\n",
       " 'factorial',\n",
       " 'floor',\n",
       " 'fmod',\n",
       " 'frexp',\n",
       " 'fsum',\n",
       " 'gamma',\n",
       " 'gcd',\n",
       " 'hypot',\n",
       " 'inf',\n",
       " 'isclose',\n",
       " 'isfinite',\n",
       " 'isinf',\n",
       " 'isnan',\n",
       " 'isqrt',\n",
       " 'lcm',\n",
       " 'ldexp',\n",
       " 'lgamma',\n",
       " 'log',\n",
       " 'log10',\n",
       " 'log1p',\n",
       " 'log2',\n",
       " 'modf',\n",
       " 'nan',\n",
       " 'nextafter',\n",
       " 'perm',\n",
       " 'pi',\n",
       " 'pow',\n",
       " 'prod',\n",
       " 'radians',\n",
       " 'remainder',\n",
       " 'sin',\n",
       " 'sinh',\n",
       " 'sqrt',\n",
       " 'sumprod',\n",
       " 'tan',\n",
       " 'tanh',\n",
       " 'tau',\n",
       " 'trunc',\n",
       " 'ulp']"
      ]
     },
     "execution_count": 92,
     "metadata": {},
     "output_type": "execute_result"
    }
   ],
   "source": [
    "import math\n",
    "dir(math)"
   ]
  },
  {
   "cell_type": "markdown",
   "id": "1fe48002-aebb-4b2d-b0e3-427a20545c53",
   "metadata": {},
   "source": [
    "2 Control flow"
   ]
  },
  {
   "cell_type": "markdown",
   "id": "f53e93b6-69bd-4ecd-aea5-81a0ee0162f4",
   "metadata": {},
   "source": [
    "2.1 Conditional expressions"
   ]
  },
  {
   "cell_type": "code",
   "execution_count": 138,
   "id": "128228a8-1478-454d-b147-a1b2ee3700b0",
   "metadata": {},
   "outputs": [
    {
     "name": "stdin",
     "output_type": "stream",
     "text": [
      "Enter an integer:   23\n"
     ]
    }
   ],
   "source": [
    "x = input(\"Enter an integer:  \")"
   ]
  },
  {
   "cell_type": "code",
   "execution_count": 140,
   "id": "523f96f3-82fc-46f9-ba00-6c5f573b9b5e",
   "metadata": {},
   "outputs": [],
   "source": [
    "x = int(x)"
   ]
  },
  {
   "cell_type": "code",
   "execution_count": 142,
   "id": "6f4894ec-308d-4d18-aae0-56f62b516380",
   "metadata": {},
   "outputs": [
    {
     "name": "stdout",
     "output_type": "stream",
     "text": [
      "x is positive\n"
     ]
    }
   ],
   "source": [
    "if x>0:\n",
    "    print(\"x is positive\")\n",
    "else:\n",
    "    print(\"x is negative or 0\")"
   ]
  },
  {
   "cell_type": "code",
   "execution_count": 27,
   "id": "31d1bbe2-0371-416d-b242-c4ceb9e6958e",
   "metadata": {},
   "outputs": [
    {
     "name": "stdin",
     "output_type": "stream",
     "text": [
      "Enter an integer:   43\n"
     ]
    }
   ],
   "source": [
    "x = input(\"Enter an integer:  \")"
   ]
  },
  {
   "cell_type": "code",
   "execution_count": 31,
   "id": "044cae63-0644-4438-8ce7-9bdbf06a6ff5",
   "metadata": {},
   "outputs": [
    {
     "name": "stdout",
     "output_type": "stream",
     "text": [
      "x is positive\n",
      "and as a matter of fact\n",
      "its value is 43\n"
     ]
    }
   ],
   "source": [
    "x = int(x)\n",
    "if x>0:\n",
    "    print(\"x is positive\")\n",
    "    print(\"and as a matter of fact\")\n",
    "    print(\"its value is\", x)\n",
    "else: \n",
    "    print(\"x is negative or 0\")\n",
    "    print(\"so it's not positive\")"
   ]
  },
  {
   "cell_type": "code",
   "execution_count": 106,
   "id": "bb638a63-2bb4-4905-962a-2b27c3154f9d",
   "metadata": {},
   "outputs": [
    {
     "name": "stdin",
     "output_type": "stream",
     "text": [
      "Enter an integer:   12\n"
     ]
    }
   ],
   "source": [
    "x = input(\"Enter an integer:  \")"
   ]
  },
  {
   "cell_type": "code",
   "execution_count": 108,
   "id": "b943874a-564a-4474-b1ed-37e14886e7f4",
   "metadata": {},
   "outputs": [
    {
     "name": "stdout",
     "output_type": "stream",
     "text": [
      "x is positive and large\n"
     ]
    }
   ],
   "source": [
    "x = int(x)\n",
    "if x>10:\n",
    "    print(\"x is positive and large\")\n",
    "elif x>0:\n",
    "    print(\"x is positive and small\")\n",
    "else:\n",
    "    print(\"x is negative or 0\")"
   ]
  },
  {
   "cell_type": "code",
   "execution_count": 110,
   "id": "ddbfe4db-6ae8-428b-b7ca-a932504d6ae6",
   "metadata": {},
   "outputs": [],
   "source": [
    "if x==1:\n",
    "    print(\"message\")"
   ]
  },
  {
   "cell_type": "code",
   "execution_count": 112,
   "id": "7a125989-3636-4fcf-982d-0c8e0bcab0ba",
   "metadata": {},
   "outputs": [
    {
     "name": "stdout",
     "output_type": "stream",
     "text": [
      "message\n"
     ]
    }
   ],
   "source": [
    "if x!=1:\n",
    "    print(\"message\")"
   ]
  },
  {
   "cell_type": "code",
   "execution_count": 114,
   "id": "15c989a8-f261-465e-9737-532d0899c47d",
   "metadata": {},
   "outputs": [],
   "source": [
    "if x<=1:\n",
    "    print(\"message\")"
   ]
  },
  {
   "cell_type": "code",
   "execution_count": 116,
   "id": "49b08adb-cf66-455a-b08c-c11cb5d565e2",
   "metadata": {},
   "outputs": [],
   "source": [
    "if x<10 and x>1:\n",
    "    print(\"message\")"
   ]
  },
  {
   "cell_type": "code",
   "execution_count": 118,
   "id": "56ba702f-8539-4b40-9db9-60bc25817ddf",
   "metadata": {},
   "outputs": [
    {
     "name": "stdout",
     "output_type": "stream",
     "text": [
      "message\n"
     ]
    }
   ],
   "source": [
    "if x>10 or x<1:\n",
    "    print(\"message\")"
   ]
  },
  {
   "cell_type": "code",
   "execution_count": 33,
   "id": "acf219e6-fcbb-49e4-a4f6-a29d28cb3fa4",
   "metadata": {},
   "outputs": [],
   "source": [
    "flag = False\n",
    "if flag:\n",
    "    print(\"message\")"
   ]
  },
  {
   "cell_type": "code",
   "execution_count": 35,
   "id": "1da15ca7-25c0-4d2b-99e8-598d662acbac",
   "metadata": {},
   "outputs": [],
   "source": [
    "if flag==True:\n",
    "    print(\"message\")"
   ]
  },
  {
   "cell_type": "markdown",
   "id": "4a534d9d-658e-4835-8fef-f8e91bb1c47b",
   "metadata": {},
   "source": [
    "2.2 While Loops"
   ]
  },
  {
   "cell_type": "code",
   "execution_count": 146,
   "id": "09696a86-1ffd-4735-92fd-34c6e1b6d8d1",
   "metadata": {},
   "outputs": [
    {
     "name": "stdout",
     "output_type": "stream",
     "text": [
      "17\n"
     ]
    }
   ],
   "source": [
    "i=17\n",
    "print(i)"
   ]
  },
  {
   "cell_type": "code",
   "execution_count": 148,
   "id": "ca94f049-5eae-4797-acbe-c7b1434e3f5f",
   "metadata": {},
   "outputs": [
    {
     "name": "stdout",
     "output_type": "stream",
     "text": [
      "23\n",
      "29\n",
      "35\n",
      "41\n",
      "47\n",
      "53\n"
     ]
    }
   ],
   "source": [
    "while i<50:\n",
    "    i+=6\n",
    "    print(i)"
   ]
  },
  {
   "cell_type": "code",
   "execution_count": 152,
   "id": "3bd79769-fb4e-4d64-bcfc-ed3880f573d6",
   "metadata": {},
   "outputs": [
    {
     "name": "stdout",
     "output_type": "stream",
     "text": [
      "18\n"
     ]
    }
   ],
   "source": [
    "i = 18\n",
    "print(i)"
   ]
  },
  {
   "cell_type": "code",
   "execution_count": 154,
   "id": "60b23114-6833-4c0a-89f8-6b4508873cd9",
   "metadata": {},
   "outputs": [
    {
     "name": "stdout",
     "output_type": "stream",
     "text": [
      "Even number 23\n",
      "Now outside while loop\n"
     ]
    }
   ],
   "source": [
    "while i<50:\n",
    "    i += 5\n",
    "    if i%2==1:\n",
    "        print(\"Even number\", i)\n",
    "        break\n",
    "    print(i)\n",
    "print(\"Now outside while loop\")"
   ]
  },
  {
   "cell_type": "code",
   "execution_count": 156,
   "id": "f58c788a-71f2-41d9-aa2e-faff34474a91",
   "metadata": {},
   "outputs": [
    {
     "name": "stdout",
     "output_type": "stream",
     "text": [
      "Even number 30\n",
      "37\n",
      "Even number 44\n",
      "51\n",
      "Now outside while loop\n"
     ]
    }
   ],
   "source": [
    "while i<50:\n",
    "    i += 7\n",
    "    if i%2==0:\n",
    "        print(\"Even number\", i)\n",
    "        continue\n",
    "    print(i)\n",
    "print(\"Now outside while loop\")"
   ]
  },
  {
   "cell_type": "code",
   "execution_count": 110,
   "id": "df732380-2f63-4ffb-b5cd-bdd7c95cf877",
   "metadata": {},
   "outputs": [
    {
     "name": "stdout",
     "output_type": "stream",
     "text": [
      "9\n",
      "8\n",
      "7\n",
      "6\n",
      "5\n",
      "4\n",
      "3\n",
      "2\n"
     ]
    }
   ],
   "source": [
    "i = 10\n",
    "while True:\n",
    "    i -= 1\n",
    "    print(i)\n",
    "    if i==2:\n",
    "        break"
   ]
  },
  {
   "cell_type": "markdown",
   "id": "b70df015-8af3-40e1-8175-c8806f7831f9",
   "metadata": {},
   "source": [
    "3 Data Structures"
   ]
  },
  {
   "cell_type": "markdown",
   "id": "89f820b3-f40b-421e-adfe-6b76d0c1ca6e",
   "metadata": {},
   "source": [
    "3.1 Lists"
   ]
  },
  {
   "cell_type": "code",
   "execution_count": 137,
   "id": "139b8464-bb8a-4651-a29d-f8c2b257b75b",
   "metadata": {},
   "outputs": [],
   "source": [
    "r = [5, 1+2j, -2.0]"
   ]
  },
  {
   "cell_type": "code",
   "execution_count": 139,
   "id": "1628c6ee-019f-405a-a9f5-cc6e0da37df2",
   "metadata": {},
   "outputs": [],
   "source": [
    "x, y, z = 10, 20, 30\n",
    "rp = [x, y, z]"
   ]
  },
  {
   "cell_type": "code",
   "execution_count": 141,
   "id": "a01e5a7a-0782-4de9-9368-d1ec2856a1b4",
   "metadata": {},
   "outputs": [
    {
     "name": "stdout",
     "output_type": "stream",
     "text": [
      "10\n"
     ]
    }
   ],
   "source": [
    "print(rp[0])"
   ]
  },
  {
   "cell_type": "code",
   "execution_count": 145,
   "id": "67e636b4-5a2d-4e82-811f-b7eb0c2d0874",
   "metadata": {},
   "outputs": [
    {
     "name": "stdout",
     "output_type": "stream",
     "text": [
      "37.416573867739416\n"
     ]
    }
   ],
   "source": [
    "from math import sqrt\n",
    "r = [10, 20, 30]\n",
    "length = sqrt(r[0]**2 + r[1]**2 + r[2]**2)\n",
    "print(length)"
   ]
  },
  {
   "cell_type": "code",
   "execution_count": 147,
   "id": "174fb491-0385-4fb3-a778-0fed673378f9",
   "metadata": {},
   "outputs": [
    {
     "name": "stdout",
     "output_type": "stream",
     "text": [
      "30\n"
     ]
    }
   ],
   "source": [
    "print(r[-1])"
   ]
  },
  {
   "cell_type": "code",
   "execution_count": 149,
   "id": "4cc965e5-c4a2-46a8-bc5e-88579cff58c4",
   "metadata": {},
   "outputs": [
    {
     "name": "stdout",
     "output_type": "stream",
     "text": [
      "[10, 5, 30]\n"
     ]
    }
   ],
   "source": [
    "r = [10, 20, 30]\n",
    "r[1] = 5\n",
    "print(r)"
   ]
  },
  {
   "cell_type": "code",
   "execution_count": 160,
   "id": "37c39211-f4e2-4cbe-9de4-e9c959b1a5e3",
   "metadata": {},
   "outputs": [
    {
     "name": "stdout",
     "output_type": "stream",
     "text": [
      "[30, 40]\n"
     ]
    }
   ],
   "source": [
    "r = [10, 20, 30, 40, 50]\n",
    "s = r[2:4]\n",
    "print(s)"
   ]
  },
  {
   "cell_type": "code",
   "execution_count": 162,
   "id": "99228f6b-b12e-4af4-afb0-dc75aac1da95",
   "metadata": {},
   "outputs": [
    {
     "name": "stdout",
     "output_type": "stream",
     "text": [
      "[10, 20, 30]\n"
     ]
    }
   ],
   "source": [
    "print(r[:3])"
   ]
  },
  {
   "cell_type": "code",
   "execution_count": 168,
   "id": "8de20d53-180f-46fe-8f14-f3206dc65d2d",
   "metadata": {},
   "outputs": [
    {
     "name": "stdout",
     "output_type": "stream",
     "text": [
      "[10, 20]\n"
     ]
    }
   ],
   "source": [
    "print(r[:2])"
   ]
  },
  {
   "cell_type": "code",
   "execution_count": 157,
   "id": "16a00f73-0662-4436-94b1-3b3302915a1f",
   "metadata": {},
   "outputs": [
    {
     "name": "stdout",
     "output_type": "stream",
     "text": [
      "[30, 40, 50]\n"
     ]
    }
   ],
   "source": [
    "print(r[2:])"
   ]
  },
  {
   "cell_type": "code",
   "execution_count": 340,
   "id": "1ab50a3a-7cf1-4684-848f-bdff1e9a8303",
   "metadata": {},
   "outputs": [
    {
     "name": "stdout",
     "output_type": "stream",
     "text": [
      "[20, 40, 60]\n"
     ]
    }
   ],
   "source": [
    "r = [10, 20, 30, 40, 50, 60, 70, 80, 90]\n",
    "print(r[1:7:2])"
   ]
  },
  {
   "cell_type": "code",
   "execution_count": 350,
   "id": "a094d092-28f8-4511-9be7-fb506570923a",
   "metadata": {},
   "outputs": [
    {
     "data": {
      "text/plain": [
       "[10, 20]"
      ]
     },
     "execution_count": 350,
     "metadata": {},
     "output_type": "execute_result"
    }
   ],
   "source": [
    "r[0:2]"
   ]
  },
  {
   "cell_type": "code",
   "execution_count": 161,
   "id": "fb971248-97b1-4891-a2a2-0fb21ad75153",
   "metadata": {},
   "outputs": [],
   "source": [
    "r = [10, 20, 30, 40, 50, 60, 70, 80, 90, 100, 110, 120, 130, 140, 150, 160, 170, 180]"
   ]
  },
  {
   "cell_type": "code",
   "execution_count": 165,
   "id": "89b504fd-4ead-4647-841b-9053f944d860",
   "metadata": {},
   "outputs": [],
   "source": [
    "r = [10, 20, 30, 40, 50, 60,70, 80, 90,\n",
    "     100, 110, 120, 130, 140, 150, 160, 170, 180]"
   ]
  },
  {
   "cell_type": "code",
   "execution_count": 171,
   "id": "e18c9e60-4dec-42ad-baea-920b14d0ffc0",
   "metadata": {},
   "outputs": [
    {
     "data": {
      "text/plain": [
       "[11, 1, 2, 3, 4, 5, 6, 7, 8, 22]"
      ]
     },
     "execution_count": 171,
     "metadata": {},
     "output_type": "execute_result"
    }
   ],
   "source": [
    "r = [11, 7, 19, 22]\n",
    "a = [1, 2, 3, 4, 5, 6, 7, 8]\n",
    "r[1:3] = a\n",
    "r"
   ]
  },
  {
   "cell_type": "markdown",
   "id": "94b84652-515d-4c93-8949-f0cc08011edd",
   "metadata": {},
   "source": [
    "3.1.4 Built-in Functions"
   ]
  },
  {
   "cell_type": "code",
   "execution_count": 176,
   "id": "02776c93-1251-4b40-a384-e50183832046",
   "metadata": {},
   "outputs": [
    {
     "data": {
      "text/plain": [
       "4"
      ]
     },
     "execution_count": 176,
     "metadata": {},
     "output_type": "execute_result"
    }
   ],
   "source": [
    "r = [11, 7, 19, 22]\n",
    "len(r)"
   ]
  },
  {
   "cell_type": "code",
   "execution_count": 178,
   "id": "1a359892-b786-4000-a56d-637fa6120e5f",
   "metadata": {},
   "outputs": [
    {
     "data": {
      "text/plain": [
       "59"
      ]
     },
     "execution_count": 178,
     "metadata": {},
     "output_type": "execute_result"
    }
   ],
   "source": [
    "sum(r)"
   ]
  },
  {
   "cell_type": "code",
   "execution_count": 180,
   "id": "c3f7cd3b-c40e-4f87-bc1e-54fe285feac4",
   "metadata": {},
   "outputs": [
    {
     "data": {
      "text/plain": [
       "22"
      ]
     },
     "execution_count": 180,
     "metadata": {},
     "output_type": "execute_result"
    }
   ],
   "source": [
    "max(r)"
   ]
  },
  {
   "cell_type": "code",
   "execution_count": 182,
   "id": "05f5f039-d4b3-4f0b-a848-f669a09f85da",
   "metadata": {},
   "outputs": [
    {
     "data": {
      "text/plain": [
       "7"
      ]
     },
     "execution_count": 182,
     "metadata": {},
     "output_type": "execute_result"
    }
   ],
   "source": [
    "min(r)"
   ]
  },
  {
   "cell_type": "markdown",
   "id": "f42f833b-ec1c-40d0-b615-31b4ec7f5551",
   "metadata": {},
   "source": [
    "3.1.5 Appending and popping"
   ]
  },
  {
   "cell_type": "code",
   "execution_count": 185,
   "id": "262f2db8-c58b-4fef-9066-16c946f51dd9",
   "metadata": {},
   "outputs": [
    {
     "ename": "IndexError",
     "evalue": "list assignment index out of range",
     "output_type": "error",
     "traceback": [
      "\u001b[1;31m---------------------------------------------------------------------------\u001b[0m",
      "\u001b[1;31mIndexError\u001b[0m                                Traceback (most recent call last)",
      "Cell \u001b[1;32mIn[185], line 2\u001b[0m\n\u001b[0;32m      1\u001b[0m r \u001b[38;5;241m=\u001b[39m [\u001b[38;5;241m11\u001b[39m, \u001b[38;5;241m7\u001b[39m, \u001b[38;5;241m19\u001b[39m, \u001b[38;5;241m22\u001b[39m]\n\u001b[1;32m----> 2\u001b[0m r[\u001b[38;5;241m4\u001b[39m] \u001b[38;5;241m=\u001b[39m \u001b[38;5;241m8\u001b[39m\n",
      "\u001b[1;31mIndexError\u001b[0m: list assignment index out of range"
     ]
    }
   ],
   "source": [
    "r = [11, 7, 19, 22]\n",
    "r[4] = 8"
   ]
  },
  {
   "cell_type": "code",
   "execution_count": 187,
   "id": "33836bc4-7fd2-4f34-9b6b-19c4292c42f4",
   "metadata": {},
   "outputs": [],
   "source": [
    "r[3:] = r[3], 8"
   ]
  },
  {
   "cell_type": "code",
   "execution_count": 182,
   "id": "d0b3c556-4fe1-4219-ab3a-f0d04543fd80",
   "metadata": {},
   "outputs": [
    {
     "name": "stdout",
     "output_type": "stream",
     "text": [
      "[11, 7, 19, 22, 8]\n"
     ]
    }
   ],
   "source": [
    "r = [11, 7, 19, 22]\n",
    "r.append(8)\n",
    "print(r)"
   ]
  },
  {
   "cell_type": "code",
   "execution_count": 191,
   "id": "83d51655-306b-42d7-aeda-ad9a8108d154",
   "metadata": {},
   "outputs": [
    {
     "name": "stdout",
     "output_type": "stream",
     "text": [
      "[50, 8]\n"
     ]
    }
   ],
   "source": [
    "r = []\n",
    "r.append(50)\n",
    "r.append(8)\n",
    "print(r)"
   ]
  },
  {
   "cell_type": "code",
   "execution_count": 193,
   "id": "ea84a209-ed7d-497f-90a4-047e16e98dfd",
   "metadata": {},
   "outputs": [
    {
     "name": "stdout",
     "output_type": "stream",
     "text": [
      "[50]\n",
      "8\n"
     ]
    }
   ],
   "source": [
    "x = r.pop()\n",
    "print(r)\n",
    "print(x)"
   ]
  },
  {
   "cell_type": "markdown",
   "id": "2fd67026-da62-46bd-95af-bd19e523febb",
   "metadata": {},
   "source": [
    "3.1.6 Concatenating"
   ]
  },
  {
   "cell_type": "code",
   "execution_count": 196,
   "id": "5d315935-7aff-4007-bd32-e762b3a2c66d",
   "metadata": {},
   "outputs": [
    {
     "name": "stdout",
     "output_type": "stream",
     "text": [
      "[4, 5, 6, 1, 2, 3]\n"
     ]
    }
   ],
   "source": [
    "a = [1, 2, 3]\n",
    "b = [4, 5, 6]\n",
    "c = b + a\n",
    "print(c)"
   ]
  },
  {
   "cell_type": "code",
   "execution_count": 198,
   "id": "01fef7e2-d374-4d6b-a562-afdd0da4d7a7",
   "metadata": {},
   "outputs": [
    {
     "name": "stdout",
     "output_type": "stream",
     "text": [
      "[4, 5, 6, 4, 5, 6, 4, 5, 6]\n"
     ]
    }
   ],
   "source": [
    "d = 3*b\n",
    "print(d)"
   ]
  },
  {
   "cell_type": "code",
   "execution_count": 202,
   "id": "ca879e12-cdbe-480c-92ce-71e62e9b4c33",
   "metadata": {},
   "outputs": [
    {
     "name": "stdout",
     "output_type": "stream",
     "text": [
      "[1, 1, 1, 1, 1, 1, 1, 1, 1, 1]\n"
     ]
    }
   ],
   "source": [
    "g = 10*[1]\n",
    "print(g)"
   ]
  },
  {
   "cell_type": "markdown",
   "id": "4a5aa973-11d0-4544-bd95-49facf0125d7",
   "metadata": {},
   "source": [
    "3.1.7 Copying"
   ]
  },
  {
   "cell_type": "code",
   "execution_count": 213,
   "id": "2d75f91b-52bb-40e9-a051-71fcc3706e72",
   "metadata": {},
   "outputs": [
    {
     "data": {
      "text/plain": [
       "[7, 2, 3]"
      ]
     },
     "execution_count": 213,
     "metadata": {},
     "output_type": "execute_result"
    }
   ],
   "source": [
    "a = [1, 2, 3]\n",
    "b = a \n",
    "b[0] = 7\n",
    "a"
   ]
  },
  {
   "cell_type": "code",
   "execution_count": 215,
   "id": "f59b3c03-aaa8-4d70-9ed1-ceb021853f5b",
   "metadata": {},
   "outputs": [
    {
     "data": {
      "text/plain": [
       "True"
      ]
     },
     "execution_count": 215,
     "metadata": {},
     "output_type": "execute_result"
    }
   ],
   "source": [
    "a==b"
   ]
  },
  {
   "cell_type": "code",
   "execution_count": 217,
   "id": "5b48e025-3f0a-445e-93bc-cac2c8eee142",
   "metadata": {},
   "outputs": [
    {
     "data": {
      "text/plain": [
       "True"
      ]
     },
     "execution_count": 217,
     "metadata": {},
     "output_type": "execute_result"
    }
   ],
   "source": [
    "a is b"
   ]
  },
  {
   "cell_type": "code",
   "execution_count": 219,
   "id": "6f98f17c-34dd-4523-806c-fb8922879a55",
   "metadata": {},
   "outputs": [
    {
     "data": {
      "text/plain": [
       "[7, 19]"
      ]
     },
     "execution_count": 219,
     "metadata": {},
     "output_type": "execute_result"
    }
   ],
   "source": [
    "r = [11, 7, 19, 22]\n",
    "sli = r[1:3]\n",
    "sli"
   ]
  },
  {
   "cell_type": "code",
   "execution_count": 221,
   "id": "67cb8967-b2d2-4188-a96c-9f556a3948c0",
   "metadata": {},
   "outputs": [
    {
     "data": {
      "text/plain": [
       "[55, 19]"
      ]
     },
     "execution_count": 221,
     "metadata": {},
     "output_type": "execute_result"
    }
   ],
   "source": [
    "sli[0] = 55\n",
    "sli"
   ]
  },
  {
   "cell_type": "code",
   "execution_count": 223,
   "id": "99d96751-7890-4138-ba29-bd9a806ce49f",
   "metadata": {},
   "outputs": [
    {
     "data": {
      "text/plain": [
       "[11, 7, 19, 22]"
      ]
     },
     "execution_count": 223,
     "metadata": {},
     "output_type": "execute_result"
    }
   ],
   "source": [
    "r"
   ]
  },
  {
   "cell_type": "code",
   "execution_count": 225,
   "id": "1a9a3e7f-d17e-4c17-9766-8a2553d26c39",
   "metadata": {},
   "outputs": [
    {
     "data": {
      "text/plain": [
       "[33, 2, 3]"
      ]
     },
     "execution_count": 225,
     "metadata": {},
     "output_type": "execute_result"
    }
   ],
   "source": [
    "a = [1, 2, 3]\n",
    "c = a[:]\n",
    "c[0] = 33\n",
    "c"
   ]
  },
  {
   "cell_type": "code",
   "execution_count": 229,
   "id": "e21d5afa-cb23-4f90-bf65-88781a19ed17",
   "metadata": {},
   "outputs": [
    {
     "data": {
      "text/plain": [
       "True"
      ]
     },
     "execution_count": 229,
     "metadata": {},
     "output_type": "execute_result"
    }
   ],
   "source": [
    "a = [1, 2, 3]\n",
    "c = a[:]\n",
    "a==c"
   ]
  },
  {
   "cell_type": "code",
   "execution_count": 231,
   "id": "fbeff1b2-919d-43d8-848e-fe647bd81165",
   "metadata": {},
   "outputs": [
    {
     "data": {
      "text/plain": [
       "False"
      ]
     },
     "execution_count": 231,
     "metadata": {},
     "output_type": "execute_result"
    }
   ],
   "source": [
    "a is c"
   ]
  },
  {
   "cell_type": "markdown",
   "id": "90b41415-ee87-42e7-947a-7b1842107791",
   "metadata": {},
   "source": [
    "3.2 Tuples "
   ]
  },
  {
   "cell_type": "code",
   "execution_count": 234,
   "id": "905e8c5b-4d12-46f7-8050-def996392ad2",
   "metadata": {},
   "outputs": [
    {
     "name": "stdout",
     "output_type": "stream",
     "text": [
      "(1, 2, 3)\n"
     ]
    }
   ],
   "source": [
    "a = (1, 2, 3)\n",
    "print(a)"
   ]
  },
  {
   "cell_type": "code",
   "execution_count": 236,
   "id": "74b91b52-6d42-4fdb-bea6-f9fe37eea004",
   "metadata": {},
   "outputs": [
    {
     "name": "stdout",
     "output_type": "stream",
     "text": [
      "(1, 2, 3)\n"
     ]
    }
   ],
   "source": [
    "b = 1, 2, 3\n",
    "print(b)"
   ]
  },
  {
   "cell_type": "code",
   "execution_count": 238,
   "id": "d79761fa-fb32-4dea-8134-28d8f59a82fb",
   "metadata": {},
   "outputs": [
    {
     "name": "stdout",
     "output_type": "stream",
     "text": [
      "1\n"
     ]
    }
   ],
   "source": [
    "print(b[0])"
   ]
  },
  {
   "cell_type": "code",
   "execution_count": 246,
   "id": "c149cc6a-19a8-46ec-af35-84d0bb911929",
   "metadata": {},
   "outputs": [
    {
     "data": {
      "text/plain": [
       "(4, 5, 6, 1, 2, 3)"
      ]
     },
     "execution_count": 246,
     "metadata": {},
     "output_type": "execute_result"
    }
   ],
   "source": [
    "a = 1,2,3\n",
    "b = 4,5,6\n",
    "b+a"
   ]
  },
  {
   "cell_type": "markdown",
   "id": "808df771-1b72-4117-aff3-0560c0d07875",
   "metadata": {},
   "source": [
    "3.3 Strings"
   ]
  },
  {
   "cell_type": "code",
   "execution_count": 249,
   "id": "fcd0c17f-fbf1-456c-a52c-e0ae1a64f324",
   "metadata": {},
   "outputs": [
    {
     "data": {
      "text/plain": [
       "'Hello, world!'"
      ]
     },
     "execution_count": 249,
     "metadata": {},
     "output_type": "execute_result"
    }
   ],
   "source": [
    "phrase = \"Hello, world!\"\n",
    "phrase"
   ]
  },
  {
   "cell_type": "code",
   "execution_count": 251,
   "id": "a82ba045-bda0-4ca5-a38c-b4f53722589a",
   "metadata": {},
   "outputs": [
    {
     "name": "stdout",
     "output_type": "stream",
     "text": [
      "Hello, world!\n"
     ]
    }
   ],
   "source": [
    "print(phrase)"
   ]
  },
  {
   "cell_type": "code",
   "execution_count": 253,
   "id": "bddf4bdb-e408-46c0-9f6f-85a727d366bf",
   "metadata": {},
   "outputs": [
    {
     "data": {
      "text/plain": [
       "'H'"
      ]
     },
     "execution_count": 253,
     "metadata": {},
     "output_type": "execute_result"
    }
   ],
   "source": [
    "phrase[0]"
   ]
  },
  {
   "cell_type": "code",
   "execution_count": 255,
   "id": "13d75a63-07db-49db-aad2-4aaf8713fc60",
   "metadata": {},
   "outputs": [
    {
     "data": {
      "text/plain": [
       "'w'"
      ]
     },
     "execution_count": 255,
     "metadata": {},
     "output_type": "execute_result"
    }
   ],
   "source": [
    "phrase[7]"
   ]
  },
  {
   "cell_type": "markdown",
   "id": "76032efa-4f17-4631-b520-16dee63ec619",
   "metadata": {},
   "source": [
    "3.3.2 Concatenating and splitting"
   ]
  },
  {
   "cell_type": "code",
   "execution_count": 262,
   "id": "18c3db8f-6472-425d-90a8-9a8015989219",
   "metadata": {},
   "outputs": [
    {
     "data": {
      "text/plain": [
       "'My name is Alex'"
      ]
     },
     "execution_count": 262,
     "metadata": {},
     "output_type": "execute_result"
    }
   ],
   "source": [
    "a = \"My name is\"\n",
    "b = \"Alex\"\n",
    "a+ \" \" +b"
   ]
  },
  {
   "cell_type": "code",
   "execution_count": 264,
   "id": "4c784adf-76b1-44f1-87fb-ef9d058b6520",
   "metadata": {},
   "outputs": [
    {
     "data": {
      "text/plain": [
       "'My name is Alex'"
      ]
     },
     "execution_count": 264,
     "metadata": {},
     "output_type": "execute_result"
    }
   ],
   "source": [
    "a = \"My name is\"\n",
    "b = \"Alex\"\n",
    "vals = [a, b]\n",
    "\" \".join(vals)"
   ]
  },
  {
   "cell_type": "code",
   "execution_count": 266,
   "id": "0c68ec48-45e0-4b30-94f5-ffaaa5aa226b",
   "metadata": {},
   "outputs": [
    {
     "data": {
      "text/plain": [
       "'one-two-three'"
      ]
     },
     "execution_count": 266,
     "metadata": {},
     "output_type": "execute_result"
    }
   ],
   "source": [
    "strl = [\"one\", \"two\", \"three\"]\n",
    "\"-\".join(strl)"
   ]
  },
  {
   "cell_type": "code",
   "execution_count": 268,
   "id": "0b408df0-f761-45ae-bf44-617a07b8720a",
   "metadata": {},
   "outputs": [
    {
     "data": {
      "text/plain": [
       "['there', 'are', 'many', 'words', 'in', 'here']"
      ]
     },
     "execution_count": 268,
     "metadata": {},
     "output_type": "execute_result"
    }
   ],
   "source": [
    "phrase = \"there are many words in here\"\n",
    "phrase.split()"
   ]
  },
  {
   "cell_type": "code",
   "execution_count": 186,
   "id": "82ff63ad-86e0-4060-a550-f59fe141406a",
   "metadata": {},
   "outputs": [
    {
     "data": {
      "text/plain": [
       "['one', 'two', 'three', 'four', 'five']"
      ]
     },
     "execution_count": 186,
     "metadata": {},
     "output_type": "execute_result"
    }
   ],
   "source": [
    "numd = \"one-two-three-four-five\"\n",
    "numd.split(\"-\")"
   ]
  },
  {
   "cell_type": "code",
   "execution_count": 274,
   "id": "dc23d567-eec5-472b-ba39-6a1097b88785",
   "metadata": {},
   "outputs": [
    {
     "data": {
      "text/plain": [
       "['four', 'five', 'six']"
      ]
     },
     "execution_count": 274,
     "metadata": {},
     "output_type": "execute_result"
    }
   ],
   "source": [
    "numc = \"four,five,six\"\n",
    "numc.split(\",\")"
   ]
  },
  {
   "cell_type": "markdown",
   "id": "b88aa0a2-7f91-4314-b31e-8fae15403bf0",
   "metadata": {},
   "source": [
    "3.3.3 Fancy Formatting"
   ]
  },
  {
   "cell_type": "code",
   "execution_count": 277,
   "id": "8ab34fb5-c412-4d9f-a5a0-99d85dddabe7",
   "metadata": {},
   "outputs": [
    {
     "data": {
      "text/plain": [
       "'This is my sentence'"
      ]
     },
     "execution_count": 277,
     "metadata": {},
     "output_type": "execute_result"
    }
   ],
   "source": [
    "\"{0} is my {1}\".format(\"This\", \"sentence\")"
   ]
  },
  {
   "cell_type": "code",
   "execution_count": 279,
   "id": "aec78393-c624-489b-932e-ef3cccce32bb",
   "metadata": {},
   "outputs": [
    {
     "data": {
      "text/plain": [
       "'My name is Alex'"
      ]
     },
     "execution_count": 279,
     "metadata": {},
     "output_type": "execute_result"
    }
   ],
   "source": [
    "a = \"My name is\"\n",
    "b = \"Alex\"\n",
    "\"{0} {1}\".format(a,b)"
   ]
  },
  {
   "cell_type": "code",
   "execution_count": 283,
   "id": "5921580b-0f50-49fa-a9c9-00bea4039b1b",
   "metadata": {},
   "outputs": [
    {
     "data": {
      "text/plain": [
       "'3.1 -2.5'"
      ]
     },
     "execution_count": 283,
     "metadata": {},
     "output_type": "execute_result"
    }
   ],
   "source": [
    "x, y = 3.1, -2.5\n",
    "\"{0} {1}\".format(x, y)"
   ]
  },
  {
   "cell_type": "code",
   "execution_count": 285,
   "id": "3342eaca-e511-4d31-98f2-df4f757c7b42",
   "metadata": {},
   "outputs": [
    {
     "data": {
      "text/plain": [
       "'-2.5 3.1'"
      ]
     },
     "execution_count": 285,
     "metadata": {},
     "output_type": "execute_result"
    }
   ],
   "source": [
    "\"{1} {0}\".format(x,y)"
   ]
  },
  {
   "cell_type": "code",
   "execution_count": 293,
   "id": "befc6e7a-a563-49ce-8ed1-1493cd6ad492",
   "metadata": {},
   "outputs": [
    {
     "data": {
      "text/plain": [
       "'This       is my sentence'"
      ]
     },
     "execution_count": 293,
     "metadata": {},
     "output_type": "execute_result"
    }
   ],
   "source": [
    "\"{0:10} is my {1}\".format(\"This\", \"sentence\")"
   ]
  },
  {
   "cell_type": "code",
   "execution_count": 295,
   "id": "60b37d91-6871-4dd2-a335-521456c618b3",
   "metadata": {},
   "outputs": [
    {
     "data": {
      "text/plain": [
       "'3.100000000000000 -2.5'"
      ]
     },
     "execution_count": 295,
     "metadata": {},
     "output_type": "execute_result"
    }
   ],
   "source": [
    "\"{0:1.15f} {1}\".format(x,y)"
   ]
  },
  {
   "cell_type": "markdown",
   "id": "186c1de2-786f-4beb-9f48-89656311d3b5",
   "metadata": {},
   "source": [
    "3.4 Dictionaries"
   ]
  },
  {
   "cell_type": "code",
   "execution_count": 298,
   "id": "6e4387bc-3303-411c-82d1-50a7dc340e26",
   "metadata": {},
   "outputs": [],
   "source": [
    "htow = {1.41: 31.3, 1.45: 36.7, 1.48: 42.4}"
   ]
  },
  {
   "cell_type": "code",
   "execution_count": 300,
   "id": "a30e72ef-1b92-411b-8d2c-9e448084c69e",
   "metadata": {},
   "outputs": [
    {
     "data": {
      "text/plain": [
       "36.7"
      ]
     },
     "execution_count": 300,
     "metadata": {},
     "output_type": "execute_result"
    }
   ],
   "source": [
    "htow[1.45]"
   ]
  },
  {
   "cell_type": "code",
   "execution_count": 302,
   "id": "875bd17b-65fb-4f29-9494-f4d4d2828da0",
   "metadata": {},
   "outputs": [
    {
     "ename": "KeyError",
     "evalue": "1.43",
     "output_type": "error",
     "traceback": [
      "\u001b[1;31m---------------------------------------------------------------------------\u001b[0m",
      "\u001b[1;31mKeyError\u001b[0m                                  Traceback (most recent call last)",
      "Cell \u001b[1;32mIn[302], line 1\u001b[0m\n\u001b[1;32m----> 1\u001b[0m htow[\u001b[38;5;241m1.43\u001b[39m]\n",
      "\u001b[1;31mKeyError\u001b[0m: 1.43"
     ]
    }
   ],
   "source": [
    "htow[1.43]"
   ]
  },
  {
   "cell_type": "code",
   "execution_count": 304,
   "id": "60f80383-fb33-4c3d-a663-17a170297a0e",
   "metadata": {},
   "outputs": [],
   "source": [
    "htow[1.43] = 32.9"
   ]
  },
  {
   "cell_type": "code",
   "execution_count": 306,
   "id": "cb961d8b-9e91-42ee-9ee7-c7d2bebebc15",
   "metadata": {},
   "outputs": [
    {
     "name": "stdout",
     "output_type": "stream",
     "text": [
      "{1.41: 31.3, 1.45: 36.7, 1.48: 42.4, 1.43: 32.9}\n"
     ]
    }
   ],
   "source": [
    "print(htow)"
   ]
  },
  {
   "cell_type": "code",
   "execution_count": 190,
   "id": "b710f0b5-fdc6-4693-af62-1d4c6fc8b1c4",
   "metadata": {},
   "outputs": [
    {
     "name": "stdout",
     "output_type": "stream",
     "text": [
      "{'Jack': 42, 'Sam': 33, 'Mary': 38}\n"
     ]
    }
   ],
   "source": [
    "nametoage = {}\n",
    "nametoage[\"Jack\"] = 42\n",
    "nametoage[\"Sam\"] = 33\n",
    "nametoage[\"Mary\"] = 38\n",
    "print(nametoage)"
   ]
  },
  {
   "cell_type": "code",
   "execution_count": 312,
   "id": "cec84934-2137-4cfa-92ea-6ea3f9715743",
   "metadata": {},
   "outputs": [
    {
     "data": {
      "text/plain": [
       "43"
      ]
     },
     "execution_count": 312,
     "metadata": {},
     "output_type": "execute_result"
    }
   ],
   "source": [
    "nametoage[\"Jack\"] += 1\n",
    "nametoage[\"Jack\"]"
   ]
  },
  {
   "cell_type": "markdown",
   "id": "824c7414-643f-4469-88f7-95cc5dc99984",
   "metadata": {},
   "source": [
    "4 More on control flow"
   ]
  },
  {
   "cell_type": "markdown",
   "id": "29cb5c8a-0f6b-4b7d-a72a-795659318270",
   "metadata": {},
   "source": [
    "4.1 For loops"
   ]
  },
  {
   "cell_type": "code",
   "execution_count": 194,
   "id": "daa4bd08-2ae5-488d-a7df-5930c5ddd319",
   "metadata": {},
   "outputs": [
    {
     "name": "stdout",
     "output_type": "stream",
     "text": [
      "7 14\n",
      "4 8\n",
      "12 24\n"
     ]
    }
   ],
   "source": [
    "ns = [7, 4, 12]\n",
    "for p in ns:\n",
    "    print(p, 2*p)"
   ]
  },
  {
   "cell_type": "code",
   "execution_count": 318,
   "id": "1901c7c3-a7a5-49a0-afdd-0392cd08daa1",
   "metadata": {},
   "outputs": [
    {
     "name": "stdout",
     "output_type": "stream",
     "text": [
      "Hello 0\n",
      "Hello 1\n",
      "Hello 2\n",
      "Hello 3\n",
      "Hello 4\n"
     ]
    }
   ],
   "source": [
    "for i in range(5):\n",
    "    print(\"Hello\", i)"
   ]
  },
  {
   "cell_type": "code",
   "execution_count": 332,
   "id": "48b3f12a-a4a3-4eb0-bdce-4376e2ec7881",
   "metadata": {},
   "outputs": [
    {
     "name": "stdout",
     "output_type": "stream",
     "text": [
      "0\n",
      "1\n",
      "4\n",
      "9\n",
      "16\n",
      "25\n"
     ]
    }
   ],
   "source": [
    "thingy = range(6)\n",
    "for i in thingy:\n",
    "    print(i**2)"
   ]
  },
  {
   "cell_type": "code",
   "execution_count": 198,
   "id": "419a8a9d-aac7-4a37-a55b-d4e35a6a0a16",
   "metadata": {},
   "outputs": [
    {
     "name": "stdout",
     "output_type": "stream",
     "text": [
      "0 1 4 9 "
     ]
    }
   ],
   "source": [
    "for i in range(4):\n",
    "    print(i**2, end=\" \")"
   ]
  },
  {
   "cell_type": "code",
   "execution_count": 336,
   "id": "b76bf99a-310f-45d3-b477-2ead4d0e424c",
   "metadata": {},
   "outputs": [
    {
     "data": {
      "text/plain": [
       "[0, 1, 2, 3, 4, 5]"
      ]
     },
     "execution_count": 336,
     "metadata": {},
     "output_type": "execute_result"
    }
   ],
   "source": [
    " list(range(6))"
   ]
  },
  {
   "cell_type": "code",
   "execution_count": 352,
   "id": "e7c21ad2-e320-45b2-acfa-9e0f072813db",
   "metadata": {},
   "outputs": [
    {
     "data": {
      "text/plain": [
       "[4, 7, 10, 13, 16]"
      ]
     },
     "execution_count": 352,
     "metadata": {},
     "output_type": "execute_result"
    }
   ],
   "source": [
    "list(range(4, 17, 3))"
   ]
  },
  {
   "cell_type": "code",
   "execution_count": 354,
   "id": "e66abddb-1009-4634-a7d6-bbcbbc7be3fe",
   "metadata": {},
   "outputs": [
    {
     "name": "stdout",
     "output_type": "stream",
     "text": [
      "[2, 4, 8, 16, 32, 64, 128, 256, 512, 1024]\n"
     ]
    }
   ],
   "source": [
    "powers = []\n",
    "for i in range(1, 11):\n",
    "    powers.append(2**i)\n",
    "print(powers)"
   ]
  },
  {
   "cell_type": "code",
   "execution_count": 202,
   "id": "cc62cdbb-a687-4387-8da2-0fb334154d0a",
   "metadata": {},
   "outputs": [
    {
     "name": "stdout",
     "output_type": "stream",
     "text": [
      "12.0 2 hello "
     ]
    }
   ],
   "source": [
    "a = (12., 2, \"hello\")\n",
    "for elem in a:\n",
    "    print(elem, end=\" \")"
   ]
  },
  {
   "cell_type": "code",
   "execution_count": 204,
   "id": "b0bd0c8b-385b-45cd-b191-698a9ccc0612",
   "metadata": {},
   "outputs": [
    {
     "name": "stdout",
     "output_type": "stream",
     "text": [
      "H e l l o "
     ]
    }
   ],
   "source": [
    "word = \"Hello\"\n",
    "for h in word:\n",
    "    print(h, end = \" \")"
   ]
  },
  {
   "cell_type": "code",
   "execution_count": 218,
   "id": "1bcc5a2a-12cd-4111-85c5-23619b3bf137",
   "metadata": {},
   "outputs": [
    {
     "name": "stdout",
     "output_type": "stream",
     "text": [
      "1.41 31.3\n",
      "1.48 42.4\n",
      "1.43 32.9\n",
      "2.45 36.7\n"
     ]
    }
   ],
   "source": [
    "htow = {1.41: 31.3, 1.48: 42.4, 1.43:32.9, 2.45: 36.7}\n",
    "for h in htow:\n",
    "    print(h, htow[h])"
   ]
  },
  {
   "cell_type": "markdown",
   "id": "85f18ed0-59ad-43a4-a280-b82184758055",
   "metadata": {},
   "source": [
    "4.2 User-defined functions"
   ]
  },
  {
   "cell_type": "code",
   "execution_count": 224,
   "id": "feada1a0-eea1-45a6-ae94-83440005400f",
   "metadata": {},
   "outputs": [],
   "source": [
    "def justprint():\n",
    "    print(\"Hello, world!\")"
   ]
  },
  {
   "cell_type": "code",
   "execution_count": 226,
   "id": "24f08ba7-85c2-493b-ad08-1f5e6a00a37b",
   "metadata": {},
   "outputs": [
    {
     "name": "stdout",
     "output_type": "stream",
     "text": [
      "Hello, world!\n"
     ]
    }
   ],
   "source": [
    "justprint()"
   ]
  },
  {
   "cell_type": "code",
   "execution_count": 230,
   "id": "d95c6cf7-90dc-4bf4-a313-55ae4c785a96",
   "metadata": {},
   "outputs": [
    {
     "name": "stdout",
     "output_type": "stream",
     "text": [
      "Hello, world!\n",
      "\n"
     ]
    }
   ],
   "source": [
    "x = justprint()\n",
    "print()"
   ]
  },
  {
   "cell_type": "markdown",
   "id": "72d31038-0a72-4a13-8f51-9ee06a3c6728",
   "metadata": {},
   "source": [
    "4.2.2 Return, no parameter"
   ]
  },
  {
   "cell_type": "code",
   "execution_count": 380,
   "id": "4238ee9e-f7bc-49c3-9d2c-44d70c82298e",
   "metadata": {},
   "outputs": [],
   "source": [
    "def alsoreturn():\n",
    "    print(\"Hello, world!\")\n",
    "    return True"
   ]
  },
  {
   "cell_type": "code",
   "execution_count": 382,
   "id": "524ff575-27a3-442a-bab9-d9dcbe7bfcad",
   "metadata": {},
   "outputs": [
    {
     "name": "stdout",
     "output_type": "stream",
     "text": [
      "Hello, world!\n",
      "True\n"
     ]
    }
   ],
   "source": [
    "x = alsoreturn()\n",
    "print(x)"
   ]
  },
  {
   "cell_type": "code",
   "execution_count": 384,
   "id": "8752579e-5e02-4640-93ab-a9b9d70779f8",
   "metadata": {},
   "outputs": [
    {
     "name": "stdout",
     "output_type": "stream",
     "text": [
      "Hello, world!\n"
     ]
    },
    {
     "data": {
      "text/plain": [
       "True"
      ]
     },
     "execution_count": 384,
     "metadata": {},
     "output_type": "execute_result"
    }
   ],
   "source": [
    "alsoreturn()"
   ]
  },
  {
   "cell_type": "code",
   "execution_count": 386,
   "id": "dbe56eda-ca1a-43ea-b137-b984926e8b89",
   "metadata": {},
   "outputs": [
    {
     "name": "stdout",
     "output_type": "stream",
     "text": [
      "Writing alsoreturn.py\n"
     ]
    }
   ],
   "source": [
    "%%writefile alsoreturn.py\n",
    "\n",
    "def alsoreturn():\n",
    "    print(\"Hello, world!\")\n",
    "    return True\n",
    "\n",
    "x = alsoreturn()\n",
    "print(x)\n",
    "\n",
    "alsoreturn()"
   ]
  },
  {
   "cell_type": "markdown",
   "id": "0e676e9b-be35-42fc-b856-fa62ac75af49",
   "metadata": {},
   "source": [
    "4.2.3 Return with parameter"
   ]
  },
  {
   "cell_type": "code",
   "execution_count": 234,
   "id": "e5788314-54d7-4ce4-99a3-57e6af78b800",
   "metadata": {},
   "outputs": [
    {
     "name": "stdout",
     "output_type": "stream",
     "text": [
      "14\n"
     ]
    }
   ],
   "source": [
    "def double(x):\n",
    "    return 2*x\n",
    "y = double(7)\n",
    "print(y)"
   ]
  },
  {
   "cell_type": "code",
   "execution_count": 391,
   "id": "0fd4d2b9-c16e-4ce7-82b3-534ba128fd86",
   "metadata": {},
   "outputs": [
    {
     "name": "stdout",
     "output_type": "stream",
     "text": [
      "14\n"
     ]
    }
   ],
   "source": [
    "x = double(7)\n",
    "print(x)"
   ]
  },
  {
   "cell_type": "code",
   "execution_count": 399,
   "id": "022b9feb-c1a0-4c76-946f-2aa7dc04fbaa",
   "metadata": {},
   "outputs": [
    {
     "name": "stdout",
     "output_type": "stream",
     "text": [
      "14\n"
     ]
    }
   ],
   "source": [
    "def doublenew(x):\n",
    "    val = 2*x\n",
    "    return val\n",
    "x = doublenew(7)\n",
    "print(x)"
   ]
  },
  {
   "cell_type": "markdown",
   "id": "c3b75cd3-4f0f-4e3f-b69c-f0c15fe9f6ac",
   "metadata": {},
   "source": [
    "4.2.4 More complicated"
   ]
  },
  {
   "cell_type": "code",
   "execution_count": 5,
   "id": "c3a8dade-3a06-441f-b577-b2aced1eb33a",
   "metadata": {},
   "outputs": [],
   "source": [
    "#%%writefile sumofints.py\n",
    "\n",
    "def sumofints(nmax):\n",
    "    val = sum(range(1, nmax+1))\n",
    "    return val\n"
   ]
  },
  {
   "cell_type": "code",
   "execution_count": 238,
   "id": "e351abb9-f686-4108-8d86-18169d2bcc31",
   "metadata": {},
   "outputs": [
    {
     "name": "stdout",
     "output_type": "stream",
     "text": [
      "5050\n",
      "903\n",
      "465\n"
     ]
    }
   ],
   "source": [
    "for nmax in (100, 42,30):\n",
    "    x = sumofints(nmax)\n",
    "    print(x)"
   ]
  },
  {
   "cell_type": "code",
   "execution_count": null,
   "id": "dab7343a-192c-412f-8691-cca60c788717",
   "metadata": {},
   "outputs": [],
   "source": [
    "%run sumofints.py"
   ]
  },
  {
   "cell_type": "code",
   "execution_count": 442,
   "id": "5587dda4-ddce-48cc-97cc-5f6b57767bdc",
   "metadata": {},
   "outputs": [
    {
     "name": "stdout",
     "output_type": "stream",
     "text": [
      "Writing sumofints2.py\n"
     ]
    }
   ],
   "source": [
    "%%writefile sumofints2.py\n",
    "\n",
    "def sumofints(nmax):\n",
    "    val = 0\n",
    "    for i in range(1, nmax+1):\n",
    "        val += i\n",
    "    return val\n",
    "\n",
    "for nmax in (100, 42):\n",
    "    x = sumofints(nmax)\n",
    "    print(nmax, x)"
   ]
  },
  {
   "cell_type": "code",
   "execution_count": 444,
   "id": "d8924cd7-2bc3-41a5-8abc-57defe80d657",
   "metadata": {},
   "outputs": [
    {
     "name": "stdout",
     "output_type": "stream",
     "text": [
      "100 5050\n",
      "42 903\n"
     ]
    }
   ],
   "source": [
    "%run sumofints2.py"
   ]
  },
  {
   "cell_type": "markdown",
   "id": "fd615de2-ec82-44ca-be87-c4628a824bdc",
   "metadata": {},
   "source": [
    "4.2.5 Two parameters"
   ]
  },
  {
   "cell_type": "code",
   "execution_count": 447,
   "id": "fdb1acb6-14f0-4c5d-9624-5ef8df5791da",
   "metadata": {},
   "outputs": [
    {
     "name": "stdout",
     "output_type": "stream",
     "text": [
      "Writing mag.py\n"
     ]
    }
   ],
   "source": [
    "%%writefile mag.py\n",
    "\n",
    "from math import sqrt\n",
    "\n",
    "def mag(x,y):\n",
    "    r = sqrt(x**2 + y**2)\n",
    "    return r\n",
    "\n",
    "r = mag(1.2, 2.3)\n",
    "print(r)"
   ]
  },
  {
   "cell_type": "code",
   "execution_count": 449,
   "id": "fa76cbe5-44eb-44b4-a168-a8b1b280e401",
   "metadata": {},
   "outputs": [
    {
     "name": "stdout",
     "output_type": "stream",
     "text": [
      "2.5942243542145693\n"
     ]
    }
   ],
   "source": [
    "%run mag.py"
   ]
  },
  {
   "cell_type": "code",
   "execution_count": 451,
   "id": "ad0156d2-ef25-4976-9ddc-4bbf1a7d903a",
   "metadata": {},
   "outputs": [
    {
     "name": "stdout",
     "output_type": "stream",
     "text": [
      "Writing cartesian.py\n"
     ]
    }
   ],
   "source": [
    "%%writefile cartesian.py\n",
    "\n",
    "from math import cos, sin\n",
    "\n",
    "def cartesian(r, theta):\n",
    "    x = r*cos(theta)\n",
    "    y = r*sin(theta)\n",
    "    return(x,y)\n",
    "\n",
    "a = cartesian(1.2, 0.1)\n",
    "print(a)\n",
    "x, y = cartesian(1.2, 0.1)\n",
    "print(x,y)"
   ]
  },
  {
   "cell_type": "code",
   "execution_count": 453,
   "id": "19822e40-ff5e-469b-b414-53465fe7849c",
   "metadata": {},
   "outputs": [
    {
     "name": "stdout",
     "output_type": "stream",
     "text": [
      "(1.194004998333631, 0.11980009997619379)\n",
      "1.194004998333631 0.11980009997619379\n"
     ]
    }
   ],
   "source": [
    "%run cartesian.py"
   ]
  },
  {
   "cell_type": "markdown",
   "id": "6741b5dd-b2e4-4457-b832-75b476d7b5de",
   "metadata": {},
   "source": [
    "4.2.7 Pass by Assignment"
   ]
  },
  {
   "cell_type": "code",
   "execution_count": 482,
   "id": "7e5fff15-71a7-45fc-b1b7-ab8f974dc6a5",
   "metadata": {},
   "outputs": [
    {
     "name": "stdout",
     "output_type": "stream",
     "text": [
      "Overwriting local.py\n"
     ]
    }
   ],
   "source": [
    "%%writefile local.py\n",
    "\n",
    "def f(a):\n",
    "    a += 1\n",
    "    b = 42\n",
    "    print('inside', a, b)\n",
    "\n",
    "a = 1\n",
    "b = 2\n",
    "\n",
    "print('outside', a, b)\n",
    "\n",
    "f(9)"
   ]
  },
  {
   "cell_type": "code",
   "execution_count": 484,
   "id": "22f47c63-24a9-487e-af1b-e6a357cdd2b2",
   "metadata": {},
   "outputs": [
    {
     "name": "stdout",
     "output_type": "stream",
     "text": [
      "outside 1 2\n",
      "inside 10 42\n"
     ]
    }
   ],
   "source": [
    "%run local.py"
   ]
  },
  {
   "cell_type": "code",
   "execution_count": 486,
   "id": "175fcf79-34ca-4f63-9348-5d2f02c39235",
   "metadata": {},
   "outputs": [
    {
     "name": "stdout",
     "output_type": "stream",
     "text": [
      "Writing passlist.py\n"
     ]
    }
   ],
   "source": [
    "%%writefile passlist.py\n",
    "\n",
    "def f(xs, ys):\n",
    "    xs[1] += 1\n",
    "    ys = [\"hello\", \"bye\"]\n",
    "    print(\"inside\", xs, ys)\n",
    "\n",
    "us = [7, 14]\n",
    "vs = [-1, -3]\n",
    "\n",
    "print(\"outside\", us, vs)\n",
    "f(us, vs)\n",
    "print(\"outside\", us, vs)"
   ]
  },
  {
   "cell_type": "code",
   "execution_count": 488,
   "id": "f99be4dc-cc02-4dbc-a92c-41e1bf2f48ae",
   "metadata": {},
   "outputs": [
    {
     "name": "stdout",
     "output_type": "stream",
     "text": [
      "outside [7, 14] [-1, -3]\n",
      "inside [7, 15] ['hello', 'bye']\n",
      "outside [7, 15] [-1, -3]\n"
     ]
    }
   ],
   "source": [
    "%run passlist.py"
   ]
  },
  {
   "cell_type": "markdown",
   "id": "2198a7c3-3132-4d11-89a8-3f7fded1e82e",
   "metadata": {},
   "source": [
    "4.2.8 Positional and keyword arguments"
   ]
  },
  {
   "cell_type": "code",
   "execution_count": 491,
   "id": "cfcf5f45-7f4f-4cc2-ad3e-0c143344417a",
   "metadata": {},
   "outputs": [],
   "source": [
    "from math import cos, sin, pi\n",
    "def cartesian(r, theta):\n",
    "    x = r*cos(theta)\n",
    "    y = r*sin(theta)\n",
    "    return(x, y)"
   ]
  },
  {
   "cell_type": "code",
   "execution_count": 493,
   "id": "4baf66f2-8902-4a11-9250-617eb65bcbef",
   "metadata": {},
   "outputs": [
    {
     "data": {
      "text/plain": [
       "(0.5000000000000001, 0.8660254037844386)"
      ]
     },
     "execution_count": 493,
     "metadata": {},
     "output_type": "execute_result"
    }
   ],
   "source": [
    "cartesian(1., pi/3)"
   ]
  },
  {
   "cell_type": "markdown",
   "id": "1c6899b3-df7f-446a-9cc2-9cc3fc916a09",
   "metadata": {},
   "source": [
    "4.2.9 Default parameter values"
   ]
  },
  {
   "cell_type": "code",
   "execution_count": 496,
   "id": "d6dd710a-c80d-4138-b9ac-d59c399b33aa",
   "metadata": {},
   "outputs": [],
   "source": [
    "def defpar(nmax=100):\n",
    "    val = sum(range(1, nmax+1))\n",
    "    return val"
   ]
  },
  {
   "cell_type": "code",
   "execution_count": 498,
   "id": "ededda65-4bd6-42e6-ae1f-dc2212b9a2d4",
   "metadata": {},
   "outputs": [
    {
     "data": {
      "text/plain": [
       "5050"
      ]
     },
     "execution_count": 498,
     "metadata": {},
     "output_type": "execute_result"
    }
   ],
   "source": [
    "defpar()"
   ]
  },
  {
   "cell_type": "code",
   "execution_count": 500,
   "id": "55f8c550-4c63-4131-b7b6-ab33156edd76",
   "metadata": {},
   "outputs": [
    {
     "data": {
      "text/plain": [
       "5050"
      ]
     },
     "execution_count": 500,
     "metadata": {},
     "output_type": "execute_result"
    }
   ],
   "source": [
    "defpar(100)"
   ]
  },
  {
   "cell_type": "code",
   "execution_count": 510,
   "id": "7357d6d8-bb51-48f0-a126-84b5f45ee64d",
   "metadata": {},
   "outputs": [
    {
     "data": {
      "text/plain": [
       "903"
      ]
     },
     "execution_count": 510,
     "metadata": {},
     "output_type": "execute_result"
    }
   ],
   "source": [
    "defpar(42)"
   ]
  },
  {
   "cell_type": "code",
   "execution_count": 518,
   "id": "99328053-5a22-44e7-8f83-4d90ca9bf07b",
   "metadata": {},
   "outputs": [],
   "source": [
    "def cosder(x, h = 0.01):\n",
    "    return(cos(x+h) - cos(x))/h"
   ]
  },
  {
   "cell_type": "code",
   "execution_count": 520,
   "id": "62f32dae-006e-40b8-983d-e6bbde7b7aec",
   "metadata": {},
   "outputs": [
    {
     "data": {
      "text/plain": [
       "-0.004999958333473664"
      ]
     },
     "execution_count": 520,
     "metadata": {},
     "output_type": "execute_result"
    }
   ],
   "source": [
    "cosder(0.)"
   ]
  },
  {
   "cell_type": "code",
   "execution_count": 522,
   "id": "12233959-c7d8-402d-8846-45a1850d055e",
   "metadata": {},
   "outputs": [
    {
     "data": {
      "text/plain": [
       "-0.004999958333473664"
      ]
     },
     "execution_count": 522,
     "metadata": {},
     "output_type": "execute_result"
    }
   ],
   "source": [
    "cosder(0., 0.01)"
   ]
  },
  {
   "cell_type": "code",
   "execution_count": 524,
   "id": "6c827737-17d1-438d-9e69-94bb5ff3db78",
   "metadata": {},
   "outputs": [
    {
     "data": {
      "text/plain": [
       "-0.024994792100674346"
      ]
     },
     "execution_count": 524,
     "metadata": {},
     "output_type": "execute_result"
    }
   ],
   "source": [
    "cosder(0., 0.05)"
   ]
  },
  {
   "cell_type": "code",
   "execution_count": 528,
   "id": "029a209a-f604-4467-92b6-b4ce0b263e52",
   "metadata": {},
   "outputs": [
    {
     "name": "stdout",
     "output_type": "stream",
     "text": [
      "Overwriting funcdef.py\n"
     ]
    }
   ],
   "source": [
    "%%writefile funcdef.py\n",
    "\n",
    "from math import exp\n",
    "\n",
    "def f(x):\n",
    "    return exp(-x)\n",
    "\n",
    "def g(x):\n",
    "    return exp(-x**2)\n",
    "\n",
    "def transf(x, fin=f):\n",
    "    return fin(3*x)/x\n",
    "\n",
    "x = 0.5\n",
    "print(\"g\")\n",
    "print(g(3*x)/x)\n",
    "print(transf(x,g))\n",
    "print(\"f\")\n",
    "print(f(3*x)/x)\n",
    "print(transf(x,f))\n",
    "print(transf(x))"
   ]
  },
  {
   "cell_type": "code",
   "execution_count": 530,
   "id": "01fd08a6-8348-4e3d-b1fb-e82e7fdc7f30",
   "metadata": {},
   "outputs": [
    {
     "name": "stdout",
     "output_type": "stream",
     "text": [
      "g\n",
      "0.21079844912372867\n",
      "0.21079844912372867\n",
      "f\n",
      "0.44626032029685964\n",
      "0.44626032029685964\n",
      "0.44626032029685964\n"
     ]
    }
   ],
   "source": [
    "%run funcdef.py"
   ]
  },
  {
   "cell_type": "markdown",
   "id": "1ce631b2-0e9e-434b-b098-09edaf135e52",
   "metadata": {},
   "source": [
    "4.2.12 Apply a function to list elements"
   ]
  },
  {
   "cell_type": "code",
   "execution_count": 535,
   "id": "7dfbf8fb-0fb7-4727-9e04-9817a7eb7b25",
   "metadata": {},
   "outputs": [
    {
     "data": {
      "text/plain": [
       "[4.2, 6.8, 13.0]"
      ]
     },
     "execution_count": 535,
     "metadata": {},
     "output_type": "execute_result"
    }
   ],
   "source": [
    "def double(x):\n",
    "    return 2*x\n",
    "\n",
    "vals = [2.1, 3.4, 6.5]\n",
    "mapvals = map(double, vals)\n",
    "list(mapvals)"
   ]
  },
  {
   "cell_type": "code",
   "execution_count": 537,
   "id": "daed1d60-d0ec-4bc3-a97b-e558c7c1ba63",
   "metadata": {},
   "outputs": [
    {
     "name": "stdout",
     "output_type": "stream",
     "text": [
      "[4.2, 6.8, 13.0]\n"
     ]
    }
   ],
   "source": [
    "vals = [2.1, 3.4, 6.5]\n",
    "newvals = []\n",
    "for x in vals:\n",
    "    newvals.append(2*x)\n",
    "print(newvals)"
   ]
  },
  {
   "cell_type": "code",
   "execution_count": 539,
   "id": "ddb74a15-91ff-4767-ad2e-bcb23fa2281b",
   "metadata": {},
   "outputs": [
    {
     "data": {
      "text/plain": [
       "[3.14, 7.8, 9, 14.6]"
      ]
     },
     "execution_count": 539,
     "metadata": {},
     "output_type": "execute_result"
    }
   ],
   "source": [
    "def checkgt2(x):\n",
    "    if x>2:\n",
    "        return True\n",
    "    else:\n",
    "        return False\n",
    "vals = [-1, 3.14, -2.7, -22, 7.8, 9, 14.6]\n",
    "filvals = filter(checkgt2, vals)\n",
    "list(filvals)"
   ]
  },
  {
   "cell_type": "code",
   "execution_count": 543,
   "id": "7907af09-b029-44c6-869c-9dc175602dae",
   "metadata": {},
   "outputs": [
    {
     "name": "stdout",
     "output_type": "stream",
     "text": [
      "[3.14, 7.8, 9, 14.6]\n"
     ]
    }
   ],
   "source": [
    "filvals = []\n",
    "for x in vals:\n",
    "    if x>2:\n",
    "        filvals.append(x)\n",
    "print(filvals)"
   ]
  },
  {
   "cell_type": "markdown",
   "id": "6c7686f9-6398-4014-a035-8bad40b7a7aa",
   "metadata": {},
   "source": [
    "4.3 List Comprehensions"
   ]
  },
  {
   "cell_type": "code",
   "execution_count": 545,
   "id": "c3a65e81-4bbf-4e92-b5f2-78913705c1a8",
   "metadata": {},
   "outputs": [
    {
     "name": "stdout",
     "output_type": "stream",
     "text": [
      "[0.0, 0.01, 0.02, 0.03, 0.04, 0.05, 0.06, 0.07, 0.08, 0.09]\n"
     ]
    }
   ],
   "source": [
    "xs = [0.01*i for i in range(10)]\n",
    "print(xs)"
   ]
  },
  {
   "cell_type": "code",
   "execution_count": 558,
   "id": "03a78ed0-3928-4b7b-8f6a-5279594f271a",
   "metadata": {},
   "outputs": [
    {
     "name": "stdout",
     "output_type": "stream",
     "text": [
      "[0.0, 0.01, 0.02, 0.03, 0.04, 0.05, 0.06, 0.07, 0.08, 0.09]\n"
     ]
    }
   ],
   "source": [
    "xs = []\n",
    "for i in range(10):\n",
    "    xs.append(0.01*i)\n",
    "print(xs)"
   ]
  },
  {
   "cell_type": "markdown",
   "id": "78e3f8aa-cb3a-4a6d-89bb-9a64f68c3707",
   "metadata": {},
   "source": [
    "5 File input and output"
   ]
  },
  {
   "cell_type": "markdown",
   "id": "c02fe454-1e93-4f15-afb0-fe711cabc4d2",
   "metadata": {},
   "source": [
    "5.1 Reading from a file"
   ]
  },
  {
   "cell_type": "code",
   "execution_count": 562,
   "id": "120dea34-4d08-4e6a-a2d9-9249587711f7",
   "metadata": {},
   "outputs": [
    {
     "name": "stdout",
     "output_type": "stream",
     "text": [
      "Writing compl.in\n"
     ]
    }
   ],
   "source": [
    "%%writefile compl.in\n",
    "x y \n",
    "0.6 -6.2\n",
    "1.6 9.3\n",
    "1.8 16."
   ]
  },
  {
   "cell_type": "code",
   "execution_count": 564,
   "id": "428eb07f-64e2-4155-a0dc-f2eb23791817",
   "metadata": {},
   "outputs": [
    {
     "data": {
      "text/plain": [
       "'x y \\n'"
      ]
     },
     "execution_count": 564,
     "metadata": {},
     "output_type": "execute_result"
    }
   ],
   "source": [
    "f = open(\"compl.in\", \"r\")\n",
    "f.readline()"
   ]
  },
  {
   "cell_type": "code",
   "execution_count": 566,
   "id": "86e159cb-085d-4286-88f1-f4dfd5b4bd9c",
   "metadata": {},
   "outputs": [
    {
     "data": {
      "text/plain": [
       "'0.6 -6.2\\n'"
      ]
     },
     "execution_count": 566,
     "metadata": {},
     "output_type": "execute_result"
    }
   ],
   "source": [
    "f.readline()"
   ]
  },
  {
   "cell_type": "code",
   "execution_count": 568,
   "id": "51526909-535c-49b4-b654-a75a1f26a7a9",
   "metadata": {},
   "outputs": [
    {
     "data": {
      "text/plain": [
       "['1.6', '9.3']"
      ]
     },
     "execution_count": 568,
     "metadata": {},
     "output_type": "execute_result"
    }
   ],
   "source": [
    "line = f.readline()\n",
    "line.split()"
   ]
  },
  {
   "cell_type": "code",
   "execution_count": 570,
   "id": "31d583ac-c950-4eb5-b6b9-cc6aaedd44a8",
   "metadata": {},
   "outputs": [
    {
     "data": {
      "text/plain": [
       "'1.8 16.\\n'"
      ]
     },
     "execution_count": 570,
     "metadata": {},
     "output_type": "execute_result"
    }
   ],
   "source": [
    "f.readline()"
   ]
  },
  {
   "cell_type": "code",
   "execution_count": 572,
   "id": "1d8f7ec6-e3a7-4a49-aae2-2eb0fa9def24",
   "metadata": {},
   "outputs": [
    {
     "data": {
      "text/plain": [
       "''"
      ]
     },
     "execution_count": 572,
     "metadata": {},
     "output_type": "execute_result"
    }
   ],
   "source": [
    "f.readline()"
   ]
  },
  {
   "cell_type": "code",
   "execution_count": 574,
   "id": "24731cd9-4c57-485d-9a09-833499ba9633",
   "metadata": {},
   "outputs": [],
   "source": [
    "f.close()"
   ]
  },
  {
   "cell_type": "code",
   "execution_count": 576,
   "id": "a238fda3-3a38-4602-806c-e7e92fa9c50a",
   "metadata": {},
   "outputs": [
    {
     "name": "stdout",
     "output_type": "stream",
     "text": [
      "Writing fileread.py\n"
     ]
    }
   ],
   "source": [
    "%%writefile fileread.py\n",
    "\n",
    "def myf(x):\n",
    "    return 3*abs(x)**1.7\n",
    "f = open(\"compl.in\", \"r\")\n",
    "line = f.readline()\n",
    "\n",
    "for line in f:\n",
    "    linelist = line.split()\n",
    "    xstr = linelist[0]\n",
    "    ystr = linelist[1]\n",
    "    x = float(xstr)\n",
    "    y = float(ystr)\n",
    "    print(x, myf(y))\n",
    "\n",
    "f.close()"
   ]
  },
  {
   "cell_type": "code",
   "execution_count": 578,
   "id": "2a0338b0-3076-49ec-bdda-1945172c420a",
   "metadata": {},
   "outputs": [
    {
     "name": "stdout",
     "output_type": "stream",
     "text": [
      "0.6 66.70941418426855\n",
      "1.6 132.90528995315842\n",
      "1.8 334.2914163057116\n"
     ]
    }
   ],
   "source": [
    "%run fileread.py"
   ]
  },
  {
   "cell_type": "code",
   "execution_count": 580,
   "id": "149cf654-8116-471d-b5a1-20f53d6ddce1",
   "metadata": {},
   "outputs": [
    {
     "name": "stdout",
     "output_type": "stream",
     "text": [
      "0.6 66.70941418426855\n",
      "1.6 132.90528995315842\n",
      "1.8 334.2914163057116\n"
     ]
    }
   ],
   "source": [
    "def myf(x):\n",
    "    return 3*abs(x)**1.7\n",
    "f = open(\"compl.in\", \"r\")\n",
    "line = f.readline()\n",
    "for line in f:\n",
    "    print(float(line.split()[0]), myf(float(line.split()[1])))\n",
    "f.close()\n",
    "         "
   ]
  },
  {
   "cell_type": "code",
   "execution_count": 582,
   "id": "16efe3f4-c594-46e4-a317-b75d14063a72",
   "metadata": {},
   "outputs": [
    {
     "name": "stdout",
     "output_type": "stream",
     "text": [
      "['x y \\n', '0.6 -6.2\\n', '1.6 9.3\\n', '1.8 16.\\n']\n"
     ]
    }
   ],
   "source": [
    "f = open(\"compl.in\", \"r\")\n",
    "content = f.readlines()\n",
    "print(content)\n",
    "f.close()"
   ]
  },
  {
   "cell_type": "markdown",
   "id": "aaf9a5ba-1ca8-4306-86ff-5879f2bcc031",
   "metadata": {},
   "source": [
    "5.2 Writing to a file"
   ]
  },
  {
   "cell_type": "code",
   "execution_count": 587,
   "id": "87e67c13-a8f8-4fe5-8cc6-b8ea3e03cd38",
   "metadata": {},
   "outputs": [],
   "source": [
    "f = open(\"ummy.out\", \"w\")\n",
    "f.write(\"This is my first sentence.\\n\")\n",
    "f.write(\"And this is my second sentence.\\n\")\n",
    "line = \"Yes, I started the previous sentence with 'And'. \\n\"\n",
    "f.write(line)\n",
    "f.close()"
   ]
  },
  {
   "cell_type": "code",
   "execution_count": 589,
   "id": "6b28fb13-6796-4e02-943e-1d1b24380b9e",
   "metadata": {},
   "outputs": [
    {
     "name": "stdout",
     "output_type": "stream",
     "text": [
      "Writing filewrite.py\n"
     ]
    }
   ],
   "source": [
    "%%writefile filewrite.py\n",
    "\n",
    "def complicated(x):\n",
    "    return 4*x**3 - 7\n",
    "\n",
    "xs = [0.2*i for i in range(10)]\n",
    "f = open(\"compl.out\", \"w\")\n",
    "\n",
    "for x in xs:\n",
    "    y = complicated(x)\n",
    "    line = str(x) + \" \" + str(y) + \"\\n\"\n",
    "    f.write(line)\n",
    "f.close()"
   ]
  },
  {
   "cell_type": "code",
   "execution_count": 591,
   "id": "1bff1223-51db-4965-9f71-5b14f9cf4026",
   "metadata": {},
   "outputs": [],
   "source": [
    "%run filewrite.py"
   ]
  },
  {
   "cell_type": "code",
   "execution_count": 593,
   "id": "3f9e5ac4-3c9b-42f0-a098-6cc2c367f4bd",
   "metadata": {},
   "outputs": [],
   "source": [
    "# %load compl.out\n",
    "0.0 -7.0\n",
    "0.2 -6.968\n",
    "0.4 -6.744\n",
    "0.6000000000000001 -6.135999999999999\n",
    "0.8 -4.952\n",
    "1.0 -3.0\n",
    "1.2000000000000002 -0.08799999999999653\n",
    "1.4000000000000001 3.9760000000000026\n",
    "1.6 9.384000000000004\n",
    "1.8 16.328000000000003\n"
   ]
  },
  {
   "cell_type": "markdown",
   "id": "8eb5399c-75d1-415d-b020-9c4d62ff39ed",
   "metadata": {},
   "source": [
    "7 Problems"
   ]
  },
  {
   "cell_type": "markdown",
   "id": "d2535240-e365-4772-8837-586601d7c840",
   "metadata": {},
   "source": [
    "7.1"
   ]
  },
  {
   "cell_type": "code",
   "execution_count": 600,
   "id": "325d108c-8d29-4ed2-8900-89c5ac0a009e",
   "metadata": {},
   "outputs": [
    {
     "name": "stdout",
     "output_type": "stream",
     "text": [
      "1\n",
      "2\n",
      "3\n",
      "5\n",
      "8\n",
      "13\n",
      "21\n",
      "34\n",
      "55\n",
      "89\n",
      "144\n",
      "233\n",
      "377\n",
      "610\n",
      "987\n",
      "1597\n",
      "2584\n",
      "4181\n",
      "6765\n",
      "10946\n",
      "17711\n",
      "28657\n",
      "46368\n",
      "75025\n",
      "121393\n",
      "196418\n",
      "317811\n",
      "514229\n",
      "832040\n",
      "1346269\n",
      "2178309\n",
      "3524578\n",
      "5702887\n",
      "9227465\n",
      "14930352\n",
      "24157817\n",
      "39088169\n",
      "63245986\n",
      "102334155\n",
      "165580141\n",
      "267914296\n",
      "433494437\n",
      "701408733\n",
      "1134903170\n",
      "1836311903\n",
      "2971215073\n",
      "4807526976\n",
      "7778742049\n",
      "12586269025\n",
      "20365011074\n",
      "32951280099\n",
      "53316291173\n",
      "86267571272\n",
      "139583862445\n",
      "225851433717\n",
      "365435296162\n",
      "591286729879\n",
      "956722026041\n",
      "1548008755920\n",
      "2504730781961\n",
      "4052739537881\n",
      "6557470319842\n",
      "10610209857723\n",
      "17167680177565\n",
      "27777890035288\n",
      "44945570212853\n",
      "72723460248141\n",
      "117669030460994\n",
      "190392490709135\n",
      "308061521170129\n",
      "498454011879264\n",
      "806515533049393\n",
      "1304969544928657\n",
      "2111485077978050\n",
      "3416454622906707\n",
      "5527939700884757\n",
      "8944394323791464\n",
      "14472334024676221\n",
      "23416728348467685\n",
      "37889062373143906\n",
      "61305790721611591\n",
      "99194853094755497\n",
      "160500643816367088\n",
      "259695496911122585\n",
      "420196140727489673\n",
      "679891637638612258\n",
      "1100087778366101931\n",
      "1779979416004714189\n",
      "2880067194370816120\n",
      "4660046610375530309\n",
      "7540113804746346429\n",
      "12200160415121876738\n",
      "19740274219868223167\n",
      "31940434634990099905\n",
      "51680708854858323072\n",
      "83621143489848422977\n",
      "135301852344706746049\n",
      "218922995834555169026\n",
      "354224848179261915075\n",
      "573147844013817084101\n"
     ]
    }
   ],
   "source": [
    "f1, f2 = 1, 1\n",
    "count = 0\n",
    "while count<100:\n",
    "    print(f2)\n",
    "    f1, f2 = f2, f1+f2\n",
    "    count += 1"
   ]
  },
  {
   "cell_type": "markdown",
   "id": "9ae1acef-9fe8-4134-acbb-a92135bc8404",
   "metadata": {},
   "source": [
    "7.2"
   ]
  },
  {
   "cell_type": "code",
   "execution_count": 604,
   "id": "8e81886f-3e2c-4565-9b5b-9c6aae2c5e1e",
   "metadata": {},
   "outputs": [],
   "source": [
    "sentence = \"this is a rambling sentence that simply goes on and on and on and just simply will not stop that is just the way things are\""
   ]
  },
  {
   "cell_type": "code",
   "execution_count": 612,
   "id": "8cef0f8f-f093-42d6-973c-617d86d5031c",
   "metadata": {},
   "outputs": [
    {
     "data": {
      "text/plain": [
       "['this',\n",
       " 'is',\n",
       " 'a',\n",
       " 'rambling',\n",
       " 'sentence',\n",
       " 'that',\n",
       " 'simply',\n",
       " 'goes',\n",
       " 'on',\n",
       " 'and',\n",
       " 'on',\n",
       " 'and',\n",
       " 'on',\n",
       " 'and',\n",
       " 'just',\n",
       " 'simply',\n",
       " 'will',\n",
       " 'not',\n",
       " 'stop',\n",
       " 'that',\n",
       " 'is',\n",
       " 'just',\n",
       " 'the',\n",
       " 'way',\n",
       " 'things',\n",
       " 'are']"
      ]
     },
     "execution_count": 612,
     "metadata": {},
     "output_type": "execute_result"
    }
   ],
   "source": [
    "words = sentence.split()\n",
    "wordtocount = {}\n",
    "\n",
    "for word in words:\n",
    "    wordtocount[word] = wordtocount.get(word, 0) + 1\n",
    "\n",
    "words"
   ]
  },
  {
   "cell_type": "code",
   "execution_count": 622,
   "id": "a718f5d7-5147-4bac-81a3-bfba70731c41",
   "metadata": {},
   "outputs": [
    {
     "name": "stdout",
     "output_type": "stream",
     "text": [
      "Word Frequency Table:\n"
     ]
    },
    {
     "ename": "AttributeError",
     "evalue": "'list' object has no attribute 'items'",
     "output_type": "error",
     "traceback": [
      "\u001b[1;31m---------------------------------------------------------------------------\u001b[0m",
      "\u001b[1;31mAttributeError\u001b[0m                            Traceback (most recent call last)",
      "Cell \u001b[1;32mIn[622], line 2\u001b[0m\n\u001b[0;32m      1\u001b[0m \u001b[38;5;28mprint\u001b[39m(\u001b[38;5;124m\"\u001b[39m\u001b[38;5;124mWord Frequency Table:\u001b[39m\u001b[38;5;124m\"\u001b[39m)\n\u001b[1;32m----> 2\u001b[0m \u001b[38;5;28;01mfor\u001b[39;00m word, count \u001b[38;5;129;01min\u001b[39;00m wordtocount\u001b[38;5;241m.\u001b[39mitems():\n\u001b[0;32m      3\u001b[0m     \u001b[38;5;28mprint\u001b[39m(\u001b[38;5;124mf\u001b[39m\u001b[38;5;124m\"\u001b[39m\u001b[38;5;132;01m{\u001b[39;00mword\u001b[38;5;132;01m}\u001b[39;00m\u001b[38;5;124m: \u001b[39m\u001b[38;5;132;01m{\u001b[39;00mcount\u001b[38;5;132;01m}\u001b[39;00m\u001b[38;5;124m\"\u001b[39m)\n\u001b[0;32m      5\u001b[0m \u001b[38;5;28mprint\u001b[39m(\u001b[38;5;124m\"\u001b[39m\u001b[38;5;130;01m\\n\u001b[39;00m\u001b[38;5;124mStep 2: Frequency of Frequencies\u001b[39m\u001b[38;5;124m\"\u001b[39m)\n",
      "\u001b[1;31mAttributeError\u001b[0m: 'list' object has no attribute 'items'"
     ]
    }
   ],
   "source": [
    "print(\"Word Frequency Table:\")\n",
    "for word, count in wordtocount.items():\n",
    "    print(f\"{word}: {count}\")\n",
    "\n",
    "print(\"\\nStep 2: Frequency of Frequencies\")\n",
    "\n"
   ]
  },
  {
   "cell_type": "markdown",
   "id": "ad9bd623-6284-4168-bfa3-3edab1b9154a",
   "metadata": {},
   "source": [
    "7.3"
   ]
  },
  {
   "cell_type": "code",
   "execution_count": null,
   "id": "c5803776-7f58-4d3e-bbd5-03e93d51408c",
   "metadata": {},
   "outputs": [],
   "source": [
    "# sum of odd numbers from 1 to 999\n",
    "total = sum(range(1, 1000, 2))\n",
    "print(\"Sum of odd numbers from 1 to 999:\", total)"
   ]
  },
  {
   "cell_type": "markdown",
   "id": "1430876c-fe57-41e3-bbac-1fe6358d5b49",
   "metadata": {},
   "source": [
    "7.4 "
   ]
  },
  {
   "cell_type": "code",
   "execution_count": null,
   "id": "f0a97c85-41b8-451b-926a-9aa8de0f6498",
   "metadata": {},
   "outputs": [],
   "source": [
    "n = int(input(\"Enter a large odd number: \"))"
   ]
  },
  {
   "cell_type": "code",
   "execution_count": null,
   "id": "dd7d7a53-a9e1-46e4-868f-e9a3575f1089",
   "metadata": {},
   "outputs": [],
   "source": [
    "if n % 2 == 0:\n",
    "    print(\"Please enter an odd number.\")\n",
    "else:\n",
    "    total = sum(range(1, n+1, 2))\n",
    "    print(f\"Sum of odd numbers from 1 to {n} is {total}\")"
   ]
  },
  {
   "cell_type": "markdown",
   "id": "3a98729b-e5d2-4bd6-bc09-9bc3d6eaa55d",
   "metadata": {},
   "source": [
    "7.5"
   ]
  },
  {
   "cell_type": "code",
   "execution_count": null,
   "id": "9dc9f8e4-42a9-4e8b-a079-eaa19a44d932",
   "metadata": {},
   "outputs": [],
   "source": [
    "def sum_odds_up_to(n):\n",
    "    return sum(range(1, n+1, 2))\n",
    "\n",
    "while True:\n",
    "    num = int(input(\"Enter a large odd number (even number to stop): \"))\n",
    "\n",
    "    if num % 2 == 0:\n",
    "        print(\"Even number entered. Exiting program.\")\n",
    "        break\n",
    "    else:\n",
    "        result = sum_odds_up_to(num)\n",
    "        print(f\"Sum of odd numbers from 1 to {num} is {result}\")"
   ]
  },
  {
   "cell_type": "code",
   "execution_count": null,
   "id": "307d44d1-3881-4964-be86-0055ce1e10b2",
   "metadata": {},
   "outputs": [],
   "source": []
  }
 ],
 "metadata": {
  "kernelspec": {
   "display_name": "Python 3 (ipykernel)",
   "language": "python",
   "name": "python3"
  },
  "language_info": {
   "codemirror_mode": {
    "name": "ipython",
    "version": 3
   },
   "file_extension": ".py",
   "mimetype": "text/x-python",
   "name": "python",
   "nbconvert_exporter": "python",
   "pygments_lexer": "ipython3",
   "version": "3.12.4"
  }
 },
 "nbformat": 4,
 "nbformat_minor": 5
}
